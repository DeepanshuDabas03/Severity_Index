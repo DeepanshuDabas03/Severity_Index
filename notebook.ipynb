{
 "cells": [
  {
   "cell_type": "code",
   "execution_count": 1,
   "metadata": {},
   "outputs": [],
   "source": [
    "import numpy as numpy\n",
    "import pandas as pd \n",
    "import seaborn as sbrn \n",
    "import matplotlib.pyplot\n"
   ]
  },
  {
   "cell_type": "markdown",
   "metadata": {},
   "source": [
    "##Reading Data"
   ]
  },
  {
   "cell_type": "code",
   "execution_count": 2,
   "metadata": {},
   "outputs": [],
   "source": [
    "df = pd.read_csv(\"3yearsuntouched.csv\")"
   ]
  },
  {
   "cell_type": "code",
   "execution_count": 3,
   "metadata": {},
   "outputs": [
    {
     "data": {
      "text/html": [
       "<div>\n",
       "<style scoped>\n",
       "    .dataframe tbody tr th:only-of-type {\n",
       "        vertical-align: middle;\n",
       "    }\n",
       "\n",
       "    .dataframe tbody tr th {\n",
       "        vertical-align: top;\n",
       "    }\n",
       "\n",
       "    .dataframe thead th {\n",
       "        text-align: right;\n",
       "    }\n",
       "</style>\n",
       "<table border=\"1\" class=\"dataframe\">\n",
       "  <thead>\n",
       "    <tr style=\"text-align: right;\">\n",
       "      <th></th>\n",
       "      <th>Unnamed: 0</th>\n",
       "      <th>Year</th>\n",
       "      <th>Severity</th>\n",
       "      <th>Start_Time</th>\n",
       "      <th>End_Time</th>\n",
       "      <th>Start_Lat</th>\n",
       "      <th>Start_Lng</th>\n",
       "      <th>Distance(mi)</th>\n",
       "      <th>Street</th>\n",
       "      <th>City</th>\n",
       "      <th>...</th>\n",
       "      <th>Zipcode</th>\n",
       "      <th>Timezone</th>\n",
       "      <th>Airport_Code</th>\n",
       "      <th>Temperature(F)</th>\n",
       "      <th>Wind_Chill(F)</th>\n",
       "      <th>Visibility(mi)</th>\n",
       "      <th>Wind_Direction</th>\n",
       "      <th>Weather_Condition</th>\n",
       "      <th>Traffic_Signal</th>\n",
       "      <th>Sunrise_Sunset</th>\n",
       "    </tr>\n",
       "  </thead>\n",
       "  <tbody>\n",
       "    <tr>\n",
       "      <th>0</th>\n",
       "      <td>2</td>\n",
       "      <td>2016</td>\n",
       "      <td>2</td>\n",
       "      <td>2016-02-08 06:49:27</td>\n",
       "      <td>2016-02-08 07:19:27</td>\n",
       "      <td>39.063148</td>\n",
       "      <td>-84.032608</td>\n",
       "      <td>0.010</td>\n",
       "      <td>State Route 32</td>\n",
       "      <td>Williamsburg</td>\n",
       "      <td>...</td>\n",
       "      <td>45176</td>\n",
       "      <td>US/Eastern</td>\n",
       "      <td>KI69</td>\n",
       "      <td>36.0</td>\n",
       "      <td>33.3</td>\n",
       "      <td>10.0</td>\n",
       "      <td>SW</td>\n",
       "      <td>Overcast</td>\n",
       "      <td>True</td>\n",
       "      <td>Night</td>\n",
       "    </tr>\n",
       "    <tr>\n",
       "      <th>1</th>\n",
       "      <td>3</td>\n",
       "      <td>2016</td>\n",
       "      <td>3</td>\n",
       "      <td>2016-02-08 07:23:34</td>\n",
       "      <td>2016-02-08 07:53:34</td>\n",
       "      <td>39.747753</td>\n",
       "      <td>-84.205582</td>\n",
       "      <td>0.010</td>\n",
       "      <td>I-75 S</td>\n",
       "      <td>Dayton</td>\n",
       "      <td>...</td>\n",
       "      <td>45417</td>\n",
       "      <td>US/Eastern</td>\n",
       "      <td>KDAY</td>\n",
       "      <td>35.1</td>\n",
       "      <td>31.0</td>\n",
       "      <td>9.0</td>\n",
       "      <td>SW</td>\n",
       "      <td>Mostly Cloudy</td>\n",
       "      <td>False</td>\n",
       "      <td>Night</td>\n",
       "    </tr>\n",
       "    <tr>\n",
       "      <th>2</th>\n",
       "      <td>4</td>\n",
       "      <td>2016</td>\n",
       "      <td>2</td>\n",
       "      <td>2016-02-08 07:39:07</td>\n",
       "      <td>2016-02-08 08:09:07</td>\n",
       "      <td>39.627781</td>\n",
       "      <td>-84.188354</td>\n",
       "      <td>0.010</td>\n",
       "      <td>Miamisburg Centerville Rd</td>\n",
       "      <td>Dayton</td>\n",
       "      <td>...</td>\n",
       "      <td>45459</td>\n",
       "      <td>US/Eastern</td>\n",
       "      <td>KMGY</td>\n",
       "      <td>36.0</td>\n",
       "      <td>33.3</td>\n",
       "      <td>6.0</td>\n",
       "      <td>SW</td>\n",
       "      <td>Mostly Cloudy</td>\n",
       "      <td>True</td>\n",
       "      <td>Day</td>\n",
       "    </tr>\n",
       "    <tr>\n",
       "      <th>3</th>\n",
       "      <td>5</td>\n",
       "      <td>2016</td>\n",
       "      <td>3</td>\n",
       "      <td>2016-02-08 07:44:26</td>\n",
       "      <td>2016-02-08 08:14:26</td>\n",
       "      <td>40.100590</td>\n",
       "      <td>-82.925194</td>\n",
       "      <td>0.010</td>\n",
       "      <td>Westerville Rd</td>\n",
       "      <td>Westerville</td>\n",
       "      <td>...</td>\n",
       "      <td>43081</td>\n",
       "      <td>US/Eastern</td>\n",
       "      <td>KCMH</td>\n",
       "      <td>37.9</td>\n",
       "      <td>35.5</td>\n",
       "      <td>7.0</td>\n",
       "      <td>SSW</td>\n",
       "      <td>Light Rain</td>\n",
       "      <td>False</td>\n",
       "      <td>Day</td>\n",
       "    </tr>\n",
       "    <tr>\n",
       "      <th>4</th>\n",
       "      <td>6</td>\n",
       "      <td>2016</td>\n",
       "      <td>2</td>\n",
       "      <td>2016-02-08 07:59:35</td>\n",
       "      <td>2016-02-08 08:29:35</td>\n",
       "      <td>39.758274</td>\n",
       "      <td>-84.230507</td>\n",
       "      <td>0.000</td>\n",
       "      <td>N Woodward Ave</td>\n",
       "      <td>Dayton</td>\n",
       "      <td>...</td>\n",
       "      <td>45417-2476</td>\n",
       "      <td>US/Eastern</td>\n",
       "      <td>KDAY</td>\n",
       "      <td>34.0</td>\n",
       "      <td>31.0</td>\n",
       "      <td>7.0</td>\n",
       "      <td>WSW</td>\n",
       "      <td>Overcast</td>\n",
       "      <td>False</td>\n",
       "      <td>Day</td>\n",
       "    </tr>\n",
       "    <tr>\n",
       "      <th>...</th>\n",
       "      <td>...</td>\n",
       "      <td>...</td>\n",
       "      <td>...</td>\n",
       "      <td>...</td>\n",
       "      <td>...</td>\n",
       "      <td>...</td>\n",
       "      <td>...</td>\n",
       "      <td>...</td>\n",
       "      <td>...</td>\n",
       "      <td>...</td>\n",
       "      <td>...</td>\n",
       "      <td>...</td>\n",
       "      <td>...</td>\n",
       "      <td>...</td>\n",
       "      <td>...</td>\n",
       "      <td>...</td>\n",
       "      <td>...</td>\n",
       "      <td>...</td>\n",
       "      <td>...</td>\n",
       "      <td>...</td>\n",
       "      <td>...</td>\n",
       "    </tr>\n",
       "    <tr>\n",
       "      <th>314280</th>\n",
       "      <td>7652504</td>\n",
       "      <td>2017</td>\n",
       "      <td>2</td>\n",
       "      <td>2017-08-29 14:32:25</td>\n",
       "      <td>2017-08-29 20:32:25</td>\n",
       "      <td>28.879630</td>\n",
       "      <td>-82.092960</td>\n",
       "      <td>0.722</td>\n",
       "      <td>I-75 S</td>\n",
       "      <td>Wildwood</td>\n",
       "      <td>...</td>\n",
       "      <td>34785</td>\n",
       "      <td>US/Eastern</td>\n",
       "      <td>KVVG</td>\n",
       "      <td>80.0</td>\n",
       "      <td>80.0</td>\n",
       "      <td>10.0</td>\n",
       "      <td>VAR</td>\n",
       "      <td>Light Rain with Thunder</td>\n",
       "      <td>False</td>\n",
       "      <td>Day</td>\n",
       "    </tr>\n",
       "    <tr>\n",
       "      <th>314281</th>\n",
       "      <td>7652579</td>\n",
       "      <td>2017</td>\n",
       "      <td>2</td>\n",
       "      <td>2017-08-29 15:15:51</td>\n",
       "      <td>2017-08-29 21:15:51</td>\n",
       "      <td>37.993881</td>\n",
       "      <td>-92.795869</td>\n",
       "      <td>0.000</td>\n",
       "      <td>Sunny Slope Dr</td>\n",
       "      <td>Camdenton</td>\n",
       "      <td>...</td>\n",
       "      <td>65020</td>\n",
       "      <td>US/Central</td>\n",
       "      <td>KH21</td>\n",
       "      <td>75.0</td>\n",
       "      <td>75.0</td>\n",
       "      <td>10.0</td>\n",
       "      <td>N</td>\n",
       "      <td>Cloudy</td>\n",
       "      <td>False</td>\n",
       "      <td>Day</td>\n",
       "    </tr>\n",
       "    <tr>\n",
       "      <th>314282</th>\n",
       "      <td>7652658</td>\n",
       "      <td>2017</td>\n",
       "      <td>2</td>\n",
       "      <td>2017-08-29 15:55:36</td>\n",
       "      <td>2017-08-29 21:55:36</td>\n",
       "      <td>46.617235</td>\n",
       "      <td>-113.051251</td>\n",
       "      <td>0.000</td>\n",
       "      <td>US-12 W</td>\n",
       "      <td>Drummond</td>\n",
       "      <td>...</td>\n",
       "      <td>59832</td>\n",
       "      <td>US/Mountain</td>\n",
       "      <td>K3DU</td>\n",
       "      <td>89.0</td>\n",
       "      <td>89.0</td>\n",
       "      <td>3.0</td>\n",
       "      <td>SSE</td>\n",
       "      <td>Haze</td>\n",
       "      <td>False</td>\n",
       "      <td>Day</td>\n",
       "    </tr>\n",
       "    <tr>\n",
       "      <th>314283</th>\n",
       "      <td>7653119</td>\n",
       "      <td>2017</td>\n",
       "      <td>4</td>\n",
       "      <td>2017-08-30 05:08:21</td>\n",
       "      <td>2017-08-30 11:08:21</td>\n",
       "      <td>46.672100</td>\n",
       "      <td>-113.153690</td>\n",
       "      <td>9.486</td>\n",
       "      <td>US-12 W</td>\n",
       "      <td>Drummond</td>\n",
       "      <td>...</td>\n",
       "      <td>59832</td>\n",
       "      <td>US/Mountain</td>\n",
       "      <td>K3DU</td>\n",
       "      <td>57.0</td>\n",
       "      <td>57.0</td>\n",
       "      <td>4.0</td>\n",
       "      <td>CALM</td>\n",
       "      <td>Haze</td>\n",
       "      <td>False</td>\n",
       "      <td>Night</td>\n",
       "    </tr>\n",
       "    <tr>\n",
       "      <th>314284</th>\n",
       "      <td>7653237</td>\n",
       "      <td>2017</td>\n",
       "      <td>3</td>\n",
       "      <td>2017-08-30 08:51:10</td>\n",
       "      <td>2017-08-30 14:51:10</td>\n",
       "      <td>34.344290</td>\n",
       "      <td>-118.504950</td>\n",
       "      <td>0.430</td>\n",
       "      <td>CA-14 S</td>\n",
       "      <td>Newhall</td>\n",
       "      <td>...</td>\n",
       "      <td>91321</td>\n",
       "      <td>US/Pacific</td>\n",
       "      <td>K3A6</td>\n",
       "      <td>85.0</td>\n",
       "      <td>85.0</td>\n",
       "      <td>10.0</td>\n",
       "      <td>CALM</td>\n",
       "      <td>Fair</td>\n",
       "      <td>False</td>\n",
       "      <td>Day</td>\n",
       "    </tr>\n",
       "  </tbody>\n",
       "</table>\n",
       "<p>314285 rows × 22 columns</p>\n",
       "</div>"
      ],
      "text/plain": [
       "        Unnamed: 0  Year  Severity           Start_Time             End_Time  \\\n",
       "0                2  2016         2  2016-02-08 06:49:27  2016-02-08 07:19:27   \n",
       "1                3  2016         3  2016-02-08 07:23:34  2016-02-08 07:53:34   \n",
       "2                4  2016         2  2016-02-08 07:39:07  2016-02-08 08:09:07   \n",
       "3                5  2016         3  2016-02-08 07:44:26  2016-02-08 08:14:26   \n",
       "4                6  2016         2  2016-02-08 07:59:35  2016-02-08 08:29:35   \n",
       "...            ...   ...       ...                  ...                  ...   \n",
       "314280     7652504  2017         2  2017-08-29 14:32:25  2017-08-29 20:32:25   \n",
       "314281     7652579  2017         2  2017-08-29 15:15:51  2017-08-29 21:15:51   \n",
       "314282     7652658  2017         2  2017-08-29 15:55:36  2017-08-29 21:55:36   \n",
       "314283     7653119  2017         4  2017-08-30 05:08:21  2017-08-30 11:08:21   \n",
       "314284     7653237  2017         3  2017-08-30 08:51:10  2017-08-30 14:51:10   \n",
       "\n",
       "        Start_Lat   Start_Lng  Distance(mi)                     Street  \\\n",
       "0       39.063148  -84.032608         0.010             State Route 32   \n",
       "1       39.747753  -84.205582         0.010                     I-75 S   \n",
       "2       39.627781  -84.188354         0.010  Miamisburg Centerville Rd   \n",
       "3       40.100590  -82.925194         0.010             Westerville Rd   \n",
       "4       39.758274  -84.230507         0.000             N Woodward Ave   \n",
       "...           ...         ...           ...                        ...   \n",
       "314280  28.879630  -82.092960         0.722                     I-75 S   \n",
       "314281  37.993881  -92.795869         0.000             Sunny Slope Dr   \n",
       "314282  46.617235 -113.051251         0.000                    US-12 W   \n",
       "314283  46.672100 -113.153690         9.486                    US-12 W   \n",
       "314284  34.344290 -118.504950         0.430                    CA-14 S   \n",
       "\n",
       "                City  ...     Zipcode     Timezone Airport_Code  \\\n",
       "0       Williamsburg  ...       45176   US/Eastern         KI69   \n",
       "1             Dayton  ...       45417   US/Eastern         KDAY   \n",
       "2             Dayton  ...       45459   US/Eastern         KMGY   \n",
       "3        Westerville  ...       43081   US/Eastern         KCMH   \n",
       "4             Dayton  ...  45417-2476   US/Eastern         KDAY   \n",
       "...              ...  ...         ...          ...          ...   \n",
       "314280      Wildwood  ...       34785   US/Eastern         KVVG   \n",
       "314281     Camdenton  ...       65020   US/Central         KH21   \n",
       "314282      Drummond  ...       59832  US/Mountain         K3DU   \n",
       "314283      Drummond  ...       59832  US/Mountain         K3DU   \n",
       "314284       Newhall  ...       91321   US/Pacific         K3A6   \n",
       "\n",
       "       Temperature(F) Wind_Chill(F)  Visibility(mi)  Wind_Direction  \\\n",
       "0                36.0          33.3            10.0              SW   \n",
       "1                35.1          31.0             9.0              SW   \n",
       "2                36.0          33.3             6.0              SW   \n",
       "3                37.9          35.5             7.0             SSW   \n",
       "4                34.0          31.0             7.0             WSW   \n",
       "...               ...           ...             ...             ...   \n",
       "314280           80.0          80.0            10.0             VAR   \n",
       "314281           75.0          75.0            10.0               N   \n",
       "314282           89.0          89.0             3.0             SSE   \n",
       "314283           57.0          57.0             4.0            CALM   \n",
       "314284           85.0          85.0            10.0            CALM   \n",
       "\n",
       "              Weather_Condition Traffic_Signal Sunrise_Sunset  \n",
       "0                      Overcast           True          Night  \n",
       "1                 Mostly Cloudy          False          Night  \n",
       "2                 Mostly Cloudy           True            Day  \n",
       "3                    Light Rain          False            Day  \n",
       "4                      Overcast          False            Day  \n",
       "...                         ...            ...            ...  \n",
       "314280  Light Rain with Thunder          False            Day  \n",
       "314281                   Cloudy          False            Day  \n",
       "314282                     Haze          False            Day  \n",
       "314283                     Haze          False          Night  \n",
       "314284                     Fair          False            Day  \n",
       "\n",
       "[314285 rows x 22 columns]"
      ]
     },
     "execution_count": 3,
     "metadata": {},
     "output_type": "execute_result"
    }
   ],
   "source": [
    "df"
   ]
  },
  {
   "cell_type": "code",
   "execution_count": 4,
   "metadata": {},
   "outputs": [
    {
     "name": "stdout",
     "output_type": "stream",
     "text": [
      "<class 'pandas.core.frame.DataFrame'>\n",
      "RangeIndex: 314285 entries, 0 to 314284\n",
      "Data columns (total 22 columns):\n",
      " #   Column             Non-Null Count   Dtype  \n",
      "---  ------             --------------   -----  \n",
      " 0   Unnamed: 0         314285 non-null  int64  \n",
      " 1   Year               314285 non-null  int64  \n",
      " 2   Severity           314285 non-null  int64  \n",
      " 3   Start_Time         314285 non-null  object \n",
      " 4   End_Time           314285 non-null  object \n",
      " 5   Start_Lat          314285 non-null  float64\n",
      " 6   Start_Lng          314285 non-null  float64\n",
      " 7   Distance(mi)       314285 non-null  float64\n",
      " 8   Street             314285 non-null  object \n",
      " 9   City               314285 non-null  object \n",
      " 10  County             314285 non-null  object \n",
      " 11  State              314285 non-null  object \n",
      " 12  Zipcode            314285 non-null  object \n",
      " 13  Timezone           314285 non-null  object \n",
      " 14  Airport_Code       314285 non-null  object \n",
      " 15  Temperature(F)     314285 non-null  float64\n",
      " 16  Wind_Chill(F)      314285 non-null  float64\n",
      " 17  Visibility(mi)     314285 non-null  float64\n",
      " 18  Wind_Direction     314285 non-null  object \n",
      " 19  Weather_Condition  314285 non-null  object \n",
      " 20  Traffic_Signal     314285 non-null  bool   \n",
      " 21  Sunrise_Sunset     314285 non-null  object \n",
      "dtypes: bool(1), float64(6), int64(3), object(12)\n",
      "memory usage: 50.7+ MB\n"
     ]
    }
   ],
   "source": [
    "df.info()"
   ]
  },
  {
   "cell_type": "code",
   "execution_count": 14,
   "metadata": {},
   "outputs": [
    {
     "data": {
      "text/plain": [
       "'2016-02-08 06:49:27'"
      ]
     },
     "execution_count": 14,
     "metadata": {},
     "output_type": "execute_result"
    }
   ],
   "source": [
    "df.iat[0,3]"
   ]
  },
  {
   "cell_type": "code",
   "execution_count": 23,
   "metadata": {},
   "outputs": [
    {
     "data": {
      "text/plain": [
       "'2016-02-08 07:19:27'"
      ]
     },
     "execution_count": 23,
     "metadata": {},
     "output_type": "execute_result"
    }
   ],
   "source": [
    "df.iat[0,4]"
   ]
  },
  {
   "cell_type": "code",
   "execution_count": 15,
   "metadata": {},
   "outputs": [],
   "source": [
    "for i in range(314284):\n",
    "    if(len(df.iat[i,3])>19 or len(df.iat[i,4])>19):\n",
    "        df.iat[i,3] = df.iat[i,3][:19]\n",
    "        df.iat[i,4] = df.iat[i,4][:19]"
   ]
  },
  {
   "cell_type": "code",
   "execution_count": 25,
   "metadata": {},
   "outputs": [],
   "source": [
    "Start_Time = pd.to_datetime(df.Start_Time)\n",
    "End_Time = pd.to_datetime(df.End_Time)\n",
    "Time_Diff = (End_Time - Start_Time).astype('timedelta64[s]')\n"
   ]
  },
  {
   "cell_type": "code",
   "execution_count": 22,
   "metadata": {},
   "outputs": [
    {
     "data": {
      "text/plain": [
       "0        0 days 00:30:00\n",
       "1        0 days 00:30:00\n",
       "2        0 days 00:30:00\n",
       "3        0 days 00:30:00\n",
       "4        0 days 00:30:00\n",
       "               ...      \n",
       "314280   0 days 06:00:00\n",
       "314281   0 days 06:00:00\n",
       "314282   0 days 06:00:00\n",
       "314283   0 days 06:00:00\n",
       "314284   0 days 06:00:00\n",
       "Length: 314285, dtype: timedelta64[ns]"
      ]
     },
     "execution_count": 22,
     "metadata": {},
     "output_type": "execute_result"
    }
   ],
   "source": [
    "Time_Diff"
   ]
  },
  {
   "cell_type": "code",
   "execution_count": 26,
   "metadata": {},
   "outputs": [
    {
     "data": {
      "text/plain": [
       "Timedelta('0 days 00:07:00')"
      ]
     },
     "execution_count": 26,
     "metadata": {},
     "output_type": "execute_result"
    }
   ],
   "source": [
    "min(Time_Diff)"
   ]
  },
  {
   "cell_type": "code",
   "execution_count": 29,
   "metadata": {},
   "outputs": [
    {
     "data": {
      "text/plain": [
       "Timestamp('2022-07-20 10:49:45')"
      ]
     },
     "execution_count": 29,
     "metadata": {},
     "output_type": "execute_result"
    }
   ],
   "source": [
    "max(End_Time)"
   ]
  },
  {
   "cell_type": "code",
   "execution_count": 30,
   "metadata": {},
   "outputs": [
    {
     "data": {
      "text/plain": [
       "Timestamp('2016-01-14 20:18:33')"
      ]
     },
     "execution_count": 30,
     "metadata": {},
     "output_type": "execute_result"
    }
   ],
   "source": [
    "min(Start_Time)"
   ]
  },
  {
   "cell_type": "code",
   "execution_count": 28,
   "metadata": {},
   "outputs": [
    {
     "data": {
      "text/plain": [
       "Timedelta('1553 days 01:25:45')"
      ]
     },
     "execution_count": 28,
     "metadata": {},
     "output_type": "execute_result"
    }
   ],
   "source": [
    "max(Time_Diff)"
   ]
  },
  {
   "cell_type": "code",
   "execution_count": 27,
   "metadata": {},
   "outputs": [],
   "source": [
    "df['TimeDiff'] = Time_Diff"
   ]
  }
 ],
 "metadata": {
  "kernelspec": {
   "display_name": "Python 3",
   "language": "python",
   "name": "python3"
  },
  "language_info": {
   "codemirror_mode": {
    "name": "ipython",
    "version": 3
   },
   "file_extension": ".py",
   "mimetype": "text/x-python",
   "name": "python",
   "nbconvert_exporter": "python",
   "pygments_lexer": "ipython3",
   "version": "3.10.8"
  }
 },
 "nbformat": 4,
 "nbformat_minor": 2
}
