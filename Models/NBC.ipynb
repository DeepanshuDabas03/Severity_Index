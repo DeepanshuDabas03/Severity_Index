{
 "cells": [
  {
   "cell_type": "code",
   "execution_count": 4,
   "metadata": {},
   "outputs": [],
   "source": [
    "import pandas as pd\n",
    "import numpy as np\n",
    "import matplotlib.pyplot as plt\n",
    "import seaborn as  sbrn\n",
    "from sklearn import preprocessing\n",
    "from sklearn.linear_model import LogisticRegression\n",
    "from sklearn.model_selection import train_test_split\n",
    "from sklearn.preprocessing import StandardScaler\n",
    "from sklearn.metrics import r2_score\n",
    "from sklearn.preprocessing import OneHotEncoder\n",
    "from sklearn.decomposition import PCA\n",
    "from sklearn.metrics import accuracy_score\n",
    "from sklearn.preprocessing import LabelEncoder\n",
    "# from mixed_naive_bayes import MixedNB\n",
    "from sklearn.naive_bayes import CategoricalNB\n",
    "\n"
   ]
  },
  {
   "cell_type": "code",
   "execution_count": 5,
   "metadata": {},
   "outputs": [
    {
     "data": {
      "text/html": [
       "<div>\n",
       "<style scoped>\n",
       "    .dataframe tbody tr th:only-of-type {\n",
       "        vertical-align: middle;\n",
       "    }\n",
       "\n",
       "    .dataframe tbody tr th {\n",
       "        vertical-align: top;\n",
       "    }\n",
       "\n",
       "    .dataframe thead th {\n",
       "        text-align: right;\n",
       "    }\n",
       "</style>\n",
       "<table border=\"1\" class=\"dataframe\">\n",
       "  <thead>\n",
       "    <tr style=\"text-align: right;\">\n",
       "      <th></th>\n",
       "      <th>Year</th>\n",
       "      <th>Severity</th>\n",
       "      <th>Start_Lat</th>\n",
       "      <th>Start_Lng</th>\n",
       "      <th>Distance(mi)</th>\n",
       "      <th>Street</th>\n",
       "      <th>City</th>\n",
       "      <th>County</th>\n",
       "      <th>State</th>\n",
       "      <th>Airport_Code</th>\n",
       "      <th>Temperature(F)</th>\n",
       "      <th>Wind_Chill(F)</th>\n",
       "      <th>Visibility(mi)</th>\n",
       "      <th>Wind_Direction</th>\n",
       "      <th>Weather_Condition</th>\n",
       "      <th>Traffic_Signal</th>\n",
       "      <th>Sunrise_Sunset</th>\n",
       "      <th>TimeDiff</th>\n",
       "    </tr>\n",
       "  </thead>\n",
       "  <tbody>\n",
       "    <tr>\n",
       "      <th>0</th>\n",
       "      <td>2016</td>\n",
       "      <td>2</td>\n",
       "      <td>39.063148</td>\n",
       "      <td>-84.032608</td>\n",
       "      <td>0.010</td>\n",
       "      <td>State Route 32</td>\n",
       "      <td>Williamsburg</td>\n",
       "      <td>Clermont</td>\n",
       "      <td>OH</td>\n",
       "      <td>KI69</td>\n",
       "      <td>36.0</td>\n",
       "      <td>33.3</td>\n",
       "      <td>10.0</td>\n",
       "      <td>SW</td>\n",
       "      <td>Overcast</td>\n",
       "      <td>True</td>\n",
       "      <td>Night</td>\n",
       "      <td>30.0</td>\n",
       "    </tr>\n",
       "    <tr>\n",
       "      <th>1</th>\n",
       "      <td>2016</td>\n",
       "      <td>3</td>\n",
       "      <td>39.747753</td>\n",
       "      <td>-84.205582</td>\n",
       "      <td>0.010</td>\n",
       "      <td>I-75 S</td>\n",
       "      <td>Dayton</td>\n",
       "      <td>Montgomery</td>\n",
       "      <td>OH</td>\n",
       "      <td>KDAY</td>\n",
       "      <td>35.1</td>\n",
       "      <td>31.0</td>\n",
       "      <td>9.0</td>\n",
       "      <td>SW</td>\n",
       "      <td>Mostly Cloudy</td>\n",
       "      <td>False</td>\n",
       "      <td>Night</td>\n",
       "      <td>30.0</td>\n",
       "    </tr>\n",
       "    <tr>\n",
       "      <th>2</th>\n",
       "      <td>2016</td>\n",
       "      <td>2</td>\n",
       "      <td>39.627781</td>\n",
       "      <td>-84.188354</td>\n",
       "      <td>0.010</td>\n",
       "      <td>Miamisburg Centerville Rd</td>\n",
       "      <td>Dayton</td>\n",
       "      <td>Montgomery</td>\n",
       "      <td>OH</td>\n",
       "      <td>KMGY</td>\n",
       "      <td>36.0</td>\n",
       "      <td>33.3</td>\n",
       "      <td>6.0</td>\n",
       "      <td>SW</td>\n",
       "      <td>Mostly Cloudy</td>\n",
       "      <td>True</td>\n",
       "      <td>Day</td>\n",
       "      <td>30.0</td>\n",
       "    </tr>\n",
       "    <tr>\n",
       "      <th>3</th>\n",
       "      <td>2016</td>\n",
       "      <td>3</td>\n",
       "      <td>40.100590</td>\n",
       "      <td>-82.925194</td>\n",
       "      <td>0.010</td>\n",
       "      <td>Westerville Rd</td>\n",
       "      <td>Westerville</td>\n",
       "      <td>Franklin</td>\n",
       "      <td>OH</td>\n",
       "      <td>KCMH</td>\n",
       "      <td>37.9</td>\n",
       "      <td>35.5</td>\n",
       "      <td>7.0</td>\n",
       "      <td>SSW</td>\n",
       "      <td>Light Rain</td>\n",
       "      <td>False</td>\n",
       "      <td>Day</td>\n",
       "      <td>30.0</td>\n",
       "    </tr>\n",
       "    <tr>\n",
       "      <th>4</th>\n",
       "      <td>2016</td>\n",
       "      <td>2</td>\n",
       "      <td>39.758274</td>\n",
       "      <td>-84.230507</td>\n",
       "      <td>0.000</td>\n",
       "      <td>N Woodward Ave</td>\n",
       "      <td>Dayton</td>\n",
       "      <td>Montgomery</td>\n",
       "      <td>OH</td>\n",
       "      <td>KDAY</td>\n",
       "      <td>34.0</td>\n",
       "      <td>31.0</td>\n",
       "      <td>7.0</td>\n",
       "      <td>WSW</td>\n",
       "      <td>Overcast</td>\n",
       "      <td>False</td>\n",
       "      <td>Day</td>\n",
       "      <td>30.0</td>\n",
       "    </tr>\n",
       "    <tr>\n",
       "      <th>...</th>\n",
       "      <td>...</td>\n",
       "      <td>...</td>\n",
       "      <td>...</td>\n",
       "      <td>...</td>\n",
       "      <td>...</td>\n",
       "      <td>...</td>\n",
       "      <td>...</td>\n",
       "      <td>...</td>\n",
       "      <td>...</td>\n",
       "      <td>...</td>\n",
       "      <td>...</td>\n",
       "      <td>...</td>\n",
       "      <td>...</td>\n",
       "      <td>...</td>\n",
       "      <td>...</td>\n",
       "      <td>...</td>\n",
       "      <td>...</td>\n",
       "      <td>...</td>\n",
       "    </tr>\n",
       "    <tr>\n",
       "      <th>314280</th>\n",
       "      <td>2017</td>\n",
       "      <td>2</td>\n",
       "      <td>28.879630</td>\n",
       "      <td>-82.092960</td>\n",
       "      <td>0.722</td>\n",
       "      <td>I-75 S</td>\n",
       "      <td>Wildwood</td>\n",
       "      <td>Sumter</td>\n",
       "      <td>FL</td>\n",
       "      <td>KVVG</td>\n",
       "      <td>80.0</td>\n",
       "      <td>80.0</td>\n",
       "      <td>10.0</td>\n",
       "      <td>VAR</td>\n",
       "      <td>Light Rain with Thunder</td>\n",
       "      <td>False</td>\n",
       "      <td>Day</td>\n",
       "      <td>360.0</td>\n",
       "    </tr>\n",
       "    <tr>\n",
       "      <th>314281</th>\n",
       "      <td>2017</td>\n",
       "      <td>2</td>\n",
       "      <td>37.993881</td>\n",
       "      <td>-92.795869</td>\n",
       "      <td>0.000</td>\n",
       "      <td>Sunny Slope Dr</td>\n",
       "      <td>Camdenton</td>\n",
       "      <td>Camden</td>\n",
       "      <td>MO</td>\n",
       "      <td>KH21</td>\n",
       "      <td>75.0</td>\n",
       "      <td>75.0</td>\n",
       "      <td>10.0</td>\n",
       "      <td>N</td>\n",
       "      <td>Cloudy</td>\n",
       "      <td>False</td>\n",
       "      <td>Day</td>\n",
       "      <td>360.0</td>\n",
       "    </tr>\n",
       "    <tr>\n",
       "      <th>314282</th>\n",
       "      <td>2017</td>\n",
       "      <td>2</td>\n",
       "      <td>46.617235</td>\n",
       "      <td>-113.051251</td>\n",
       "      <td>0.000</td>\n",
       "      <td>US-12 W</td>\n",
       "      <td>Drummond</td>\n",
       "      <td>Granite</td>\n",
       "      <td>MT</td>\n",
       "      <td>K3DU</td>\n",
       "      <td>89.0</td>\n",
       "      <td>89.0</td>\n",
       "      <td>3.0</td>\n",
       "      <td>SSE</td>\n",
       "      <td>Haze</td>\n",
       "      <td>False</td>\n",
       "      <td>Day</td>\n",
       "      <td>360.0</td>\n",
       "    </tr>\n",
       "    <tr>\n",
       "      <th>314283</th>\n",
       "      <td>2017</td>\n",
       "      <td>4</td>\n",
       "      <td>46.672100</td>\n",
       "      <td>-113.153690</td>\n",
       "      <td>9.486</td>\n",
       "      <td>US-12 W</td>\n",
       "      <td>Drummond</td>\n",
       "      <td>Granite</td>\n",
       "      <td>MT</td>\n",
       "      <td>K3DU</td>\n",
       "      <td>57.0</td>\n",
       "      <td>57.0</td>\n",
       "      <td>4.0</td>\n",
       "      <td>CALM</td>\n",
       "      <td>Haze</td>\n",
       "      <td>False</td>\n",
       "      <td>Night</td>\n",
       "      <td>360.0</td>\n",
       "    </tr>\n",
       "    <tr>\n",
       "      <th>314284</th>\n",
       "      <td>2017</td>\n",
       "      <td>3</td>\n",
       "      <td>34.344290</td>\n",
       "      <td>-118.504950</td>\n",
       "      <td>0.430</td>\n",
       "      <td>CA-14 S</td>\n",
       "      <td>Newhall</td>\n",
       "      <td>Los Angeles</td>\n",
       "      <td>CA</td>\n",
       "      <td>K3A6</td>\n",
       "      <td>85.0</td>\n",
       "      <td>85.0</td>\n",
       "      <td>10.0</td>\n",
       "      <td>CALM</td>\n",
       "      <td>Fair</td>\n",
       "      <td>False</td>\n",
       "      <td>Day</td>\n",
       "      <td>360.0</td>\n",
       "    </tr>\n",
       "  </tbody>\n",
       "</table>\n",
       "<p>314285 rows × 18 columns</p>\n",
       "</div>"
      ],
      "text/plain": [
       "        Year  Severity  Start_Lat   Start_Lng  Distance(mi)  \\\n",
       "0       2016         2  39.063148  -84.032608         0.010   \n",
       "1       2016         3  39.747753  -84.205582         0.010   \n",
       "2       2016         2  39.627781  -84.188354         0.010   \n",
       "3       2016         3  40.100590  -82.925194         0.010   \n",
       "4       2016         2  39.758274  -84.230507         0.000   \n",
       "...      ...       ...        ...         ...           ...   \n",
       "314280  2017         2  28.879630  -82.092960         0.722   \n",
       "314281  2017         2  37.993881  -92.795869         0.000   \n",
       "314282  2017         2  46.617235 -113.051251         0.000   \n",
       "314283  2017         4  46.672100 -113.153690         9.486   \n",
       "314284  2017         3  34.344290 -118.504950         0.430   \n",
       "\n",
       "                           Street          City       County State  \\\n",
       "0                  State Route 32  Williamsburg     Clermont    OH   \n",
       "1                          I-75 S        Dayton   Montgomery    OH   \n",
       "2       Miamisburg Centerville Rd        Dayton   Montgomery    OH   \n",
       "3                  Westerville Rd   Westerville     Franklin    OH   \n",
       "4                  N Woodward Ave        Dayton   Montgomery    OH   \n",
       "...                           ...           ...          ...   ...   \n",
       "314280                     I-75 S      Wildwood       Sumter    FL   \n",
       "314281             Sunny Slope Dr     Camdenton       Camden    MO   \n",
       "314282                    US-12 W      Drummond      Granite    MT   \n",
       "314283                    US-12 W      Drummond      Granite    MT   \n",
       "314284                    CA-14 S       Newhall  Los Angeles    CA   \n",
       "\n",
       "       Airport_Code  Temperature(F)  Wind_Chill(F)  Visibility(mi)  \\\n",
       "0              KI69            36.0           33.3            10.0   \n",
       "1              KDAY            35.1           31.0             9.0   \n",
       "2              KMGY            36.0           33.3             6.0   \n",
       "3              KCMH            37.9           35.5             7.0   \n",
       "4              KDAY            34.0           31.0             7.0   \n",
       "...             ...             ...            ...             ...   \n",
       "314280         KVVG            80.0           80.0            10.0   \n",
       "314281         KH21            75.0           75.0            10.0   \n",
       "314282         K3DU            89.0           89.0             3.0   \n",
       "314283         K3DU            57.0           57.0             4.0   \n",
       "314284         K3A6            85.0           85.0            10.0   \n",
       "\n",
       "       Wind_Direction        Weather_Condition  Traffic_Signal Sunrise_Sunset  \\\n",
       "0                  SW                 Overcast            True          Night   \n",
       "1                  SW            Mostly Cloudy           False          Night   \n",
       "2                  SW            Mostly Cloudy            True            Day   \n",
       "3                 SSW               Light Rain           False            Day   \n",
       "4                 WSW                 Overcast           False            Day   \n",
       "...               ...                      ...             ...            ...   \n",
       "314280            VAR  Light Rain with Thunder           False            Day   \n",
       "314281              N                   Cloudy           False            Day   \n",
       "314282            SSE                     Haze           False            Day   \n",
       "314283           CALM                     Haze           False          Night   \n",
       "314284           CALM                     Fair           False            Day   \n",
       "\n",
       "        TimeDiff  \n",
       "0           30.0  \n",
       "1           30.0  \n",
       "2           30.0  \n",
       "3           30.0  \n",
       "4           30.0  \n",
       "...          ...  \n",
       "314280     360.0  \n",
       "314281     360.0  \n",
       "314282     360.0  \n",
       "314283     360.0  \n",
       "314284     360.0  \n",
       "\n",
       "[314285 rows x 18 columns]"
      ]
     },
     "execution_count": 5,
     "metadata": {},
     "output_type": "execute_result"
    }
   ],
   "source": [
    "df = pd.read_csv(\"../Data/Cleandata.csv\")\n",
    "df=df.drop(columns=['Unnamed: 0.1','Unnamed: 0'])\n",
    "df"
   ]
  },
  {
   "cell_type": "code",
   "execution_count": 6,
   "metadata": {},
   "outputs": [
    {
     "name": "stdout",
     "output_type": "stream",
     "text": [
      "Column names in the dataset are: \n",
      "Year\n",
      "Severity\n",
      "Start_Lat\n",
      "Start_Lng\n",
      "Distance(mi)\n",
      "Street\n",
      "City\n",
      "County\n",
      "State\n",
      "Airport_Code\n",
      "Temperature(F)\n",
      "Wind_Chill(F)\n",
      "Visibility(mi)\n",
      "Wind_Direction\n",
      "Weather_Condition\n",
      "Traffic_Signal\n",
      "Sunrise_Sunset\n",
      "TimeDiff\n"
     ]
    }
   ],
   "source": [
    "print('Column names in the dataset are: \\n{}'.format(('\\n').join(df.columns)))"
   ]
  },
  {
   "cell_type": "code",
   "execution_count": 7,
   "metadata": {},
   "outputs": [],
   "source": [
    "X = df.drop(columns='Severity')\n",
    "y = df['Severity']\n",
    "df['TimeDiff'] = df['TimeDiff']/60"
   ]
  },
  {
   "cell_type": "code",
   "execution_count": 8,
   "metadata": {},
   "outputs": [
    {
     "name": "stdout",
     "output_type": "stream",
     "text": [
      "<class 'pandas.core.frame.DataFrame'>\n",
      "RangeIndex: 314285 entries, 0 to 314284\n",
      "Data columns (total 18 columns):\n",
      " #   Column             Non-Null Count   Dtype  \n",
      "---  ------             --------------   -----  \n",
      " 0   Year               314285 non-null  int64  \n",
      " 1   Severity           314285 non-null  int64  \n",
      " 2   Start_Lat          314285 non-null  float64\n",
      " 3   Start_Lng          314285 non-null  float64\n",
      " 4   Distance(mi)       314285 non-null  float64\n",
      " 5   Street             314285 non-null  object \n",
      " 6   City               314285 non-null  object \n",
      " 7   County             314285 non-null  object \n",
      " 8   State              314285 non-null  object \n",
      " 9   Airport_Code       314285 non-null  object \n",
      " 10  Temperature(F)     314285 non-null  float64\n",
      " 11  Wind_Chill(F)      314285 non-null  float64\n",
      " 12  Visibility(mi)     314285 non-null  float64\n",
      " 13  Wind_Direction     314285 non-null  object \n",
      " 14  Weather_Condition  314285 non-null  object \n",
      " 15  Traffic_Signal     314285 non-null  bool   \n",
      " 16  Sunrise_Sunset     314285 non-null  object \n",
      " 17  TimeDiff           314285 non-null  float64\n",
      "dtypes: bool(1), float64(7), int64(2), object(8)\n",
      "memory usage: 41.1+ MB\n"
     ]
    }
   ],
   "source": [
    "df.info()"
   ]
  },
  {
   "cell_type": "code",
   "execution_count": 9,
   "metadata": {},
   "outputs": [],
   "source": [
    "numerical_features = []\n",
    "categorical_features = []\n",
    "for column in X.columns:\n",
    "    if (df[column].dtype == 'float64' or df[column].dtype == 'int64'):\n",
    "        numerical_features.append(column)\n",
    "    elif (df[column].dtype == 'object' or df[column].dtype == 'bool'):\n",
    "        categorical_features.append(column)"
   ]
  },
  {
   "cell_type": "code",
   "execution_count": 10,
   "metadata": {},
   "outputs": [
    {
     "name": "stdout",
     "output_type": "stream",
     "text": [
      "There are a total of 8 numerical features in the dataset.\n"
     ]
    },
    {
     "data": {
      "text/plain": [
       "['Year',\n",
       " 'Start_Lat',\n",
       " 'Start_Lng',\n",
       " 'Distance(mi)',\n",
       " 'Temperature(F)',\n",
       " 'Wind_Chill(F)',\n",
       " 'Visibility(mi)',\n",
       " 'TimeDiff']"
      ]
     },
     "execution_count": 10,
     "metadata": {},
     "output_type": "execute_result"
    }
   ],
   "source": [
    "print('There are a total of {} numerical features in the dataset.'.format(len(numerical_features)))\n",
    "numerical_features\n"
   ]
  },
  {
   "cell_type": "code",
   "execution_count": 11,
   "metadata": {},
   "outputs": [
    {
     "data": {
      "image/png": "[encoded data removed]",
      "text/plain": [
       "<Figure size 2000x1000 with 9 Axes>"
      ]
     },
     "metadata": {},
     "output_type": "display_data"
    }
   ],
   "source": [
    "X_num_total = X[numerical_features]\n",
    "X_num_total.hist(bins=60,figsize=(20, 10))\n",
    "plt.show()"
   ]
  },
  {
   "cell_type": "code",
   "execution_count": 12,
   "metadata": {},
   "outputs": [
    {
     "name": "stdout",
     "output_type": "stream",
     "text": [
      "Uniques values of Accident Index column are: 5268\n"
     ]
    }
   ],
   "source": [
    "print('Uniques values of Accident Index column are: {}'.format(X_num_total['TimeDiff'].nunique()))"
   ]
  },
  {
   "cell_type": "code",
   "execution_count": 13,
   "metadata": {},
   "outputs": [
    {
     "name": "stdout",
     "output_type": "stream",
     "text": [
      "Unique values for each categorical column are:\n",
      " Street               47865\n",
      "City                  7762\n",
      "County                1397\n",
      "State                   49\n",
      "Airport_Code          1721\n",
      "Wind_Direction          23\n",
      "Weather_Condition       85\n",
      "Traffic_Signal           2\n",
      "Sunrise_Sunset           2\n",
      "dtype: int64\n"
     ]
    }
   ],
   "source": [
    "X_cat_total = X[categorical_features]\n",
    "print('Unique values for each categorical column are:\\n {}'.format(X_cat_total.nunique()))"
   ]
  },
  {
   "cell_type": "code",
   "execution_count": 14,
   "metadata": {},
   "outputs": [],
   "source": [
    "X = X.drop(columns=['City','Street','County','Airport_Code'])"
   ]
  },
  {
   "cell_type": "code",
   "execution_count": 15,
   "metadata": {},
   "outputs": [],
   "source": [
    "numerical_features.remove('Year')\n",
    "categorical_features.append('Year')\n",
    "categorical_features.remove('City')\n",
    "categorical_features.remove('Street')\n",
    "categorical_features.remove('County')\n",
    "categorical_features.remove('Airport_Code')"
   ]
  },
  {
   "cell_type": "code",
   "execution_count": 16,
   "metadata": {},
   "outputs": [],
   "source": [
    "# categorical feature list\n",
    "categorical_features_index = list()\n",
    "# Encode categorical features, get the indexes of categorical \n",
    "for i in categorical_features:\n",
    "    categorical_features_index.append(X.columns.get_loc(i))\n",
    "    X[i] = LabelEncoder().fit_transform(X[i])"
   ]
  },
  {
   "cell_type": "code",
   "execution_count": 42,
   "metadata": {},
   "outputs": [],
   "source": [
    "# numerical feature list\n",
    "numerical_features_index = list()\n",
    "# Encode num features, get the indexes of categorical \n",
    "for i in numerical_features:\n",
    "    numerical_features_index.append(X.columns.get_loc(i))\n",
    "    # X[i] = LabelEncoder().fit_transform(X[i])"
   ]
  },
  {
   "cell_type": "code",
   "execution_count": 17,
   "metadata": {},
   "outputs": [],
   "source": [
    "y = LabelEncoder().fit_transform(y)"
   ]
  },
  {
   "cell_type": "code",
   "execution_count": 18,
   "metadata": {},
   "outputs": [],
   "source": [
    "X_train_valid, X_test, y_train_valid, y_test = train_test_split(X, y, test_size = 0.2, random_state = 42)"
   ]
  },
  {
   "cell_type": "code",
   "execution_count": 19,
   "metadata": {},
   "outputs": [],
   "source": [
    "X_train, X_valid, y_train, y_valid = train_test_split(X_train_valid, y_train_valid, test_size = 0.2, random_state = 18)\n"
   ]
  },
  {
   "cell_type": "code",
   "execution_count": 20,
   "metadata": {},
   "outputs": [],
   "source": [
    "mixed_nb_alpha = [1.0,2.0,3.0,4.0,5.0]\n",
    "\n"
   ]
  },
  {
   "cell_type": "code",
   "execution_count": 21,
   "metadata": {},
   "outputs": [
    {
     "data": {
      "text/plain": [
       "[4, 8, 9, 10, 11, 0]"
      ]
     },
     "execution_count": 21,
     "metadata": {},
     "output_type": "execute_result"
    }
   ],
   "source": [
    "categorical_features_index"
   ]
  },
  {
   "cell_type": "code",
   "execution_count": 22,
   "metadata": {},
   "outputs": [
    {
     "data": {
      "text/html": [
       "<div>\n",
       "<style scoped>\n",
       "    .dataframe tbody tr th:only-of-type {\n",
       "        vertical-align: middle;\n",
       "    }\n",
       "\n",
       "    .dataframe tbody tr th {\n",
       "        vertical-align: top;\n",
       "    }\n",
       "\n",
       "    .dataframe thead th {\n",
       "        text-align: right;\n",
       "    }\n",
       "</style>\n",
       "<table border=\"1\" class=\"dataframe\">\n",
       "  <thead>\n",
       "    <tr style=\"text-align: right;\">\n",
       "      <th></th>\n",
       "      <th>Year</th>\n",
       "      <th>Start_Lat</th>\n",
       "      <th>Start_Lng</th>\n",
       "      <th>Distance(mi)</th>\n",
       "      <th>State</th>\n",
       "      <th>Temperature(F)</th>\n",
       "      <th>Wind_Chill(F)</th>\n",
       "      <th>Visibility(mi)</th>\n",
       "      <th>Wind_Direction</th>\n",
       "      <th>Weather_Condition</th>\n",
       "      <th>Traffic_Signal</th>\n",
       "      <th>Sunrise_Sunset</th>\n",
       "      <th>TimeDiff</th>\n",
       "    </tr>\n",
       "  </thead>\n",
       "  <tbody>\n",
       "    <tr>\n",
       "      <th>164828</th>\n",
       "      <td>2</td>\n",
       "      <td>45.130253</td>\n",
       "      <td>-93.390793</td>\n",
       "      <td>0.000</td>\n",
       "      <td>21</td>\n",
       "      <td>43.0</td>\n",
       "      <td>38.2</td>\n",
       "      <td>10.0</td>\n",
       "      <td>6</td>\n",
       "      <td>3</td>\n",
       "      <td>0</td>\n",
       "      <td>0</td>\n",
       "      <td>44.416667</td>\n",
       "    </tr>\n",
       "    <tr>\n",
       "      <th>125645</th>\n",
       "      <td>2</td>\n",
       "      <td>40.756248</td>\n",
       "      <td>-111.912476</td>\n",
       "      <td>0.000</td>\n",
       "      <td>42</td>\n",
       "      <td>30.0</td>\n",
       "      <td>20.0</td>\n",
       "      <td>0.5</td>\n",
       "      <td>10</td>\n",
       "      <td>70</td>\n",
       "      <td>0</td>\n",
       "      <td>0</td>\n",
       "      <td>29.650000</td>\n",
       "    </tr>\n",
       "    <tr>\n",
       "      <th>252511</th>\n",
       "      <td>0</td>\n",
       "      <td>47.642930</td>\n",
       "      <td>-117.606439</td>\n",
       "      <td>0.237</td>\n",
       "      <td>45</td>\n",
       "      <td>31.1</td>\n",
       "      <td>23.1</td>\n",
       "      <td>1.8</td>\n",
       "      <td>13</td>\n",
       "      <td>45</td>\n",
       "      <td>0</td>\n",
       "      <td>0</td>\n",
       "      <td>360.000000</td>\n",
       "    </tr>\n",
       "    <tr>\n",
       "      <th>131680</th>\n",
       "      <td>2</td>\n",
       "      <td>41.354214</td>\n",
       "      <td>-75.374352</td>\n",
       "      <td>13.640</td>\n",
       "      <td>36</td>\n",
       "      <td>27.0</td>\n",
       "      <td>17.3</td>\n",
       "      <td>3.0</td>\n",
       "      <td>8</td>\n",
       "      <td>45</td>\n",
       "      <td>0</td>\n",
       "      <td>1</td>\n",
       "      <td>45.366667</td>\n",
       "    </tr>\n",
       "    <tr>\n",
       "      <th>113923</th>\n",
       "      <td>2</td>\n",
       "      <td>43.921112</td>\n",
       "      <td>-87.766617</td>\n",
       "      <td>0.000</td>\n",
       "      <td>46</td>\n",
       "      <td>33.1</td>\n",
       "      <td>22.2</td>\n",
       "      <td>10.0</td>\n",
       "      <td>2</td>\n",
       "      <td>57</td>\n",
       "      <td>0</td>\n",
       "      <td>0</td>\n",
       "      <td>44.733333</td>\n",
       "    </tr>\n",
       "    <tr>\n",
       "      <th>...</th>\n",
       "      <td>...</td>\n",
       "      <td>...</td>\n",
       "      <td>...</td>\n",
       "      <td>...</td>\n",
       "      <td>...</td>\n",
       "      <td>...</td>\n",
       "      <td>...</td>\n",
       "      <td>...</td>\n",
       "      <td>...</td>\n",
       "      <td>...</td>\n",
       "      <td>...</td>\n",
       "      <td>...</td>\n",
       "      <td>...</td>\n",
       "    </tr>\n",
       "    <tr>\n",
       "      <th>99844</th>\n",
       "      <td>2</td>\n",
       "      <td>40.252693</td>\n",
       "      <td>-83.207184</td>\n",
       "      <td>0.000</td>\n",
       "      <td>33</td>\n",
       "      <td>28.4</td>\n",
       "      <td>19.7</td>\n",
       "      <td>7.0</td>\n",
       "      <td>22</td>\n",
       "      <td>45</td>\n",
       "      <td>0</td>\n",
       "      <td>0</td>\n",
       "      <td>29.833333</td>\n",
       "    </tr>\n",
       "    <tr>\n",
       "      <th>185433</th>\n",
       "      <td>2</td>\n",
       "      <td>32.260174</td>\n",
       "      <td>-111.002388</td>\n",
       "      <td>0.000</td>\n",
       "      <td>2</td>\n",
       "      <td>27.1</td>\n",
       "      <td>23.2</td>\n",
       "      <td>10.0</td>\n",
       "      <td>2</td>\n",
       "      <td>3</td>\n",
       "      <td>0</td>\n",
       "      <td>0</td>\n",
       "      <td>59.800000</td>\n",
       "    </tr>\n",
       "    <tr>\n",
       "      <th>285225</th>\n",
       "      <td>2</td>\n",
       "      <td>45.709663</td>\n",
       "      <td>-121.532654</td>\n",
       "      <td>0.003</td>\n",
       "      <td>35</td>\n",
       "      <td>72.0</td>\n",
       "      <td>72.0</td>\n",
       "      <td>10.0</td>\n",
       "      <td>8</td>\n",
       "      <td>54</td>\n",
       "      <td>0</td>\n",
       "      <td>0</td>\n",
       "      <td>240.000000</td>\n",
       "    </tr>\n",
       "    <tr>\n",
       "      <th>84589</th>\n",
       "      <td>2</td>\n",
       "      <td>37.256172</td>\n",
       "      <td>-93.135208</td>\n",
       "      <td>0.000</td>\n",
       "      <td>22</td>\n",
       "      <td>39.9</td>\n",
       "      <td>33.4</td>\n",
       "      <td>10.0</td>\n",
       "      <td>4</td>\n",
       "      <td>57</td>\n",
       "      <td>0</td>\n",
       "      <td>0</td>\n",
       "      <td>29.500000</td>\n",
       "    </tr>\n",
       "    <tr>\n",
       "      <th>193973</th>\n",
       "      <td>1</td>\n",
       "      <td>40.128754</td>\n",
       "      <td>-76.564926</td>\n",
       "      <td>0.000</td>\n",
       "      <td>36</td>\n",
       "      <td>37.0</td>\n",
       "      <td>31.0</td>\n",
       "      <td>10.0</td>\n",
       "      <td>22</td>\n",
       "      <td>54</td>\n",
       "      <td>0</td>\n",
       "      <td>0</td>\n",
       "      <td>44.650000</td>\n",
       "    </tr>\n",
       "  </tbody>\n",
       "</table>\n",
       "<p>201142 rows × 13 columns</p>\n",
       "</div>"
      ],
      "text/plain": [
       "        Year  Start_Lat   Start_Lng  Distance(mi)  State  Temperature(F)  \\\n",
       "164828     2  45.130253  -93.390793         0.000     21            43.0   \n",
       "125645     2  40.756248 -111.912476         0.000     42            30.0   \n",
       "252511     0  47.642930 -117.606439         0.237     45            31.1   \n",
       "131680     2  41.354214  -75.374352        13.640     36            27.0   \n",
       "113923     2  43.921112  -87.766617         0.000     46            33.1   \n",
       "...      ...        ...         ...           ...    ...             ...   \n",
       "99844      2  40.252693  -83.207184         0.000     33            28.4   \n",
       "185433     2  32.260174 -111.002388         0.000      2            27.1   \n",
       "285225     2  45.709663 -121.532654         0.003     35            72.0   \n",
       "84589      2  37.256172  -93.135208         0.000     22            39.9   \n",
       "193973     1  40.128754  -76.564926         0.000     36            37.0   \n",
       "\n",
       "        Wind_Chill(F)  Visibility(mi)  Wind_Direction  Weather_Condition  \\\n",
       "164828           38.2            10.0               6                  3   \n",
       "125645           20.0             0.5              10                 70   \n",
       "252511           23.1             1.8              13                 45   \n",
       "131680           17.3             3.0               8                 45   \n",
       "113923           22.2            10.0               2                 57   \n",
       "...               ...             ...             ...                ...   \n",
       "99844            19.7             7.0              22                 45   \n",
       "185433           23.2            10.0               2                  3   \n",
       "285225           72.0            10.0               8                 54   \n",
       "84589            33.4            10.0               4                 57   \n",
       "193973           31.0            10.0              22                 54   \n",
       "\n",
       "        Traffic_Signal  Sunrise_Sunset    TimeDiff  \n",
       "164828               0               0   44.416667  \n",
       "125645               0               0   29.650000  \n",
       "252511               0               0  360.000000  \n",
       "131680               0               1   45.366667  \n",
       "113923               0               0   44.733333  \n",
       "...                ...             ...         ...  \n",
       "99844                0               0   29.833333  \n",
       "185433               0               0   59.800000  \n",
       "285225               0               0  240.000000  \n",
       "84589                0               0   29.500000  \n",
       "193973               0               0   44.650000  \n",
       "\n",
       "[201142 rows x 13 columns]"
      ]
     },
     "execution_count": 22,
     "metadata": {},
     "output_type": "execute_result"
    }
   ],
   "source": [
    "X_train"
   ]
  },
  {
   "cell_type": "code",
   "execution_count": 23,
   "metadata": {},
   "outputs": [
    {
     "name": "stdout",
     "output_type": "stream",
     "text": [
      "[[{}, {}, {}, {}], [{}, {}, {}, {}], [{}, {}, {}, {}], [{}, {}, {}, {}], [{}, {}, {}, {}]]\n"
     ]
    }
   ],
   "source": [
    "L = [[{}] *4]*5\n",
    "print(L)"
   ]
  },
  {
   "cell_type": "code",
   "execution_count": 43,
   "metadata": {},
   "outputs": [
    {
     "data": {
      "text/plain": [
       "{}"
      ]
     },
     "execution_count": 43,
     "metadata": {},
     "output_type": "execute_result"
    }
   ],
   "source": [
    "L[1][2]"
   ]
  },
  {
   "cell_type": "code",
   "execution_count": 45,
   "metadata": {},
   "outputs": [
    {
     "data": {
      "text/plain": [
       "['State',\n",
       " 'Wind_Direction',\n",
       " 'Weather_Condition',\n",
       " 'Traffic_Signal',\n",
       " 'Sunrise_Sunset',\n",
       " 'Year']"
      ]
     },
     "execution_count": 45,
     "metadata": {},
     "output_type": "execute_result"
    }
   ],
   "source": [
    "categorical_features"
   ]
  },
  {
   "cell_type": "code",
   "execution_count": 44,
   "metadata": {},
   "outputs": [
    {
     "data": {
      "text/plain": [
       "([1, 2, 3, 5, 6, 7, 12], [4, 8, 9, 10, 11, 0])"
      ]
     },
     "execution_count": 44,
     "metadata": {},
     "output_type": "execute_result"
    }
   ],
   "source": [
    "numerical_features_index, categorical_features_index"
   ]
  },
  {
   "cell_type": "code",
   "execution_count": 82,
   "metadata": {},
   "outputs": [],
   "source": [
    "class NBC:\n",
    "    def __init__(self,X_train,y_possible,y_train,catIndex, numIndex):\n",
    "        self.X_train = X_train\n",
    "        self.y_train = y_train\n",
    "        self.y_possible = y_possible\n",
    "        self.n = len(X_train)\n",
    "        self.m = len(X_train.columns)\n",
    "        self.y_possible = y_possible\n",
    "        self.grid = [[{}]*(len(y_possible)+1)]*len(catIndex)\n",
    "        self.cat = [{}]*len(catIndex)\n",
    "        self.catIndex = catIndex\n",
    "        self.numIndex = numIndex\n",
    "        self.Mean = [{}] * len(numIndex)\n",
    "        print(self.Mean)\n",
    "        print(type(self.Mean[0]))\n",
    "        self.std = [{}] * len(numIndex)\n",
    "        self.total = [0] * (len(y_possible)+1)\n",
    "        self.dest = {}\n",
    "        self.destInd = {}\n",
    "\n",
    "    def train(self):\n",
    "\n",
    "        for i in range(1,self.n):\n",
    "            try:\n",
    "                self.total[self.y_train[i]]+=1 \n",
    "            except:\n",
    "                print(self.y_possible)\n",
    "            for j in range(len(self.catIndex)):\n",
    "                j1=self.catIndex[j]\n",
    "                if(self.grid[j][self.y_train[i]].get(self.X_train.iat[i,j1]) == None):\n",
    "                    self.grid[j][self.y_train[i]][self.X_train.iat[i,j1]]=1\n",
    "                else:\n",
    "                    self.grid[j][self.y_train[i]][self.X_train.iat[i,j1]]+=1\n",
    "                if(self.cat[j].get(self.X_train.iat[i,j1]) == None):\n",
    "                    self.cat[j][self.X_train.iat[i,j1]]=1\n",
    "                else:\n",
    "                    self.cat[j][self.X_train.iat[i,j1]]+=1   \n",
    "\n",
    "        for i in range(1,self.n):\n",
    "            y = self.y_train[i]\n",
    "            for j in range(len(self.numIndex)):\n",
    "                j1 = self.numIndex[j]\n",
    "                if((self.Mean[j]).get(y) ==None):\n",
    "                    self.Mean[j][y] = self.X_train.iat[i,j1]/self.total[y]\n",
    "                else:\n",
    "                    self.Mean[j][y]+= self.X_train.iat[i,j1]/self.total[y]\n",
    "\n",
    "        for i in range(1,self.n):\n",
    "            y = self.y_train[i]\n",
    "            for j in range(len(self.numIndex)):\n",
    "                j1 = self.numIndex[j]\n",
    "                if((self.std[j]).get(y) ==None):\n",
    "                    self.std[j][y] = ((self.X_train.iat[i,j1]-self.Mean[j][y])**2)/self.total[y]\n",
    "                else:\n",
    "                    self.std[j][y]+= ((self.X_train.iat[i,j1]-self.Mean[j][y])**2)/self.total[y]            \n",
    "\n",
    "        for j in \n",
    "\n",
    "\n",
    "\n",
    "\n",
    "\n"
   ]
  },
  {
   "cell_type": "code",
   "execution_count": 83,
   "metadata": {},
   "outputs": [
    {
     "name": "stdout",
     "output_type": "stream",
     "text": [
      "[{}, {}, {}, {}, {}, {}, {}]\n",
      "<class 'dict'>\n"
     ]
    }
   ],
   "source": [
    "o = NBC(X_train,[1,2,3,4],y_train,categorical_features_index,numerical_features_index)"
   ]
  },
  {
   "cell_type": "code",
   "execution_count": 84,
   "metadata": {},
   "outputs": [],
   "source": [
    "o.train()"
   ]
  },
  {
   "cell_type": "code",
   "execution_count": 25,
   "metadata": {},
   "outputs": [],
   "source": [
    "# mixedNB_validation_misclassification_rates = list()\n",
    "# for alpha in mixed_nb_alpha:\n",
    "#     mixedNB = MixedNB(categorical_features=categorical_features_index, alpha=alpha)\n",
    "#     mixedNB.fit(X_train,y_train)\n",
    "#     y_hat_valid = mixedNB.predict(X_valid)\n",
    "#     mixedNB_validation_misclassification_rates.append(sum(y_hat_valid != y_valid)/ len(y_valid))"
   ]
  },
  {
   "cell_type": "code",
   "execution_count": 26,
   "metadata": {},
   "outputs": [],
   "source": [
    "# bestK_mixedNB = 4\n",
    "# print(\"The best K value is: {}\".format(bestK_mixedNB))"
   ]
  },
  {
   "cell_type": "code",
   "execution_count": 27,
   "metadata": {},
   "outputs": [],
   "source": [
    "# print('The best alpha value for mixed Naïve Bayes is: {}'.format(mixed_nb_alpha[bestK_mixedNB]))"
   ]
  },
  {
   "cell_type": "code",
   "execution_count": 28,
   "metadata": {},
   "outputs": [],
   "source": [
    "# mixedNB_best_model = MixedNB(categorical_features=categorical_features_index, alpha=mixed_nb_alpha[bestK_mixedNB])\n",
    "# mixedNB_best_model.fit(X_train_valid,y_train_valid)"
   ]
  }
 ],
 "metadata": {
  "kernelspec": {
   "display_name": "Python 3",
   "language": "python",
   "name": "python3"
  },
  "language_info": {
   "codemirror_mode": {
    "name": "ipython",
    "version": 3
   },
   "file_extension": ".py",
   "mimetype": "text/x-python",
   "name": "python",
   "nbconvert_exporter": "python",
   "pygments_lexer": "ipython3",
   "version": "3.10.8"
  }
 },
 "nbformat": 4,
 "nbformat_minor": 2
}
