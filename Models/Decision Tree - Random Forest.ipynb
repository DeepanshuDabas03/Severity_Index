{
 "cells": [
  {
   "cell_type": "code",
   "execution_count": 1,
   "id": "d424c9fa",
   "metadata": {
    "_cell_guid": "b1076dfc-b9ad-4769-8c92-a6c4dae69d19",
    "_uuid": "8f2839f25d086af736a60e9eeb907d3b93b6e0e5",
    "execution": {
     "iopub.execute_input": "2023-11-18T22:09:17.339640Z",
     "iopub.status.busy": "2023-11-18T22:09:17.338572Z",
     "iopub.status.idle": "2023-11-18T22:09:17.653086Z",
     "shell.execute_reply": "2023-11-18T22:09:17.651684Z"
    },
    "papermill": {
     "duration": 0.32203,
     "end_time": "2023-11-18T22:09:17.655057",
     "exception": false,
     "start_time": "2023-11-18T22:09:17.333027",
     "status": "completed"
    },
    "tags": []
   },
   "outputs": [
    {
     "name": "stdout",
     "output_type": "stream",
     "text": [
      "/kaggle/input/label-encoded-cleaned-dataset/LabelEncoded.csv\n"
     ]
    }
   ],
   "source": [
    "# This Python 3 environment comes with many helpful analytics libraries installed\n",
    "# It is defined by the kaggle/python Docker image: https://github.com/kaggle/docker-python\n",
    "# For example, here's several helpful packages to load\n",
    "\n",
    "import numpy as np # linear algebra\n",
    "import pandas as pd # data processing, CSV file I/O (e.g. pd.read_csv)\n",
    "\n",
    "# Input data files are available in the read-only \"../input/\" directory\n",
    "# For example, running this (by clicking run or pressing Shift+Enter) will list all files under the input directory\n",
    "\n",
    "import os\n",
    "for dirname, _, filenames in os.walk('/kaggle/input'):\n",
    "    for filename in filenames:\n",
    "        print(os.path.join(dirname, filename))\n",
    "\n",
    "# You can write up to 20GB to the current directory (/kaggle/working/) that gets preserved as output when you create a version using \"Save & Run All\" \n",
    "# You can also write temporary files to /kaggle/temp/, but they won't be saved outside of the current session"
   ]
  },
  {
   "cell_type": "code",
   "execution_count": 2,
   "id": "5f0437e5",
   "metadata": {
    "execution": {
     "iopub.execute_input": "2023-11-18T22:09:17.666484Z",
     "iopub.status.busy": "2023-11-18T22:09:17.666013Z",
     "iopub.status.idle": "2023-11-18T22:09:19.522370Z",
     "shell.execute_reply": "2023-11-18T22:09:19.521345Z"
    },
    "papermill": {
     "duration": 1.863928,
     "end_time": "2023-11-18T22:09:19.524747",
     "exception": false,
     "start_time": "2023-11-18T22:09:17.660819",
     "status": "completed"
    },
    "tags": []
   },
   "outputs": [],
   "source": [
    "#importing the dataset and libraries\n",
    "\n",
    "import numpy as np\n",
    "import pandas as pd\n",
    "import matplotlib.pyplot as plt\n",
    "import seaborn as sn\n",
    "from scipy.stats import median_abs_deviation\n",
    "from sklearn.impute import SimpleImputer\n",
    "from sklearn.model_selection import train_test_split\n",
    "from sklearn.preprocessing import StandardScaler\n",
    "from sklearn.metrics import confusion_matrix\n",
    "from sklearn.tree import DecisionTreeClassifier\n",
    "from sklearn.metrics import accuracy_score\n",
    "from sklearn.metrics import classification_report\n",
    "from sklearn.model_selection import GridSearchCV\n",
    "from sklearn.ensemble import RandomForestClassifier\n",
    "from sklearn.metrics import accuracy_score, confusion_matrix, classification_report\n",
    "from collections import Counter\n",
    "import warnings\n",
    "warnings.filterwarnings('ignore')\n"
   ]
  },
  {
   "cell_type": "code",
   "execution_count": 3,
   "id": "f130a3b6",
   "metadata": {
    "execution": {
     "iopub.execute_input": "2023-11-18T22:09:19.535366Z",
     "iopub.status.busy": "2023-11-18T22:09:19.535009Z",
     "iopub.status.idle": "2023-11-18T22:09:20.040773Z",
     "shell.execute_reply": "2023-11-18T22:09:20.039094Z"
    },
    "papermill": {
     "duration": 0.513885,
     "end_time": "2023-11-18T22:09:20.043395",
     "exception": false,
     "start_time": "2023-11-18T22:09:19.529510",
     "status": "completed"
    },
    "tags": []
   },
   "outputs": [],
   "source": [
    "df = pd.read_csv(\"/kaggle/input/label-encoded-cleaned-dataset/LabelEncoded.csv\") "
   ]
  },
  {
   "cell_type": "code",
   "execution_count": 4,
   "id": "11ce5ffa",
   "metadata": {
    "execution": {
     "iopub.execute_input": "2023-11-18T22:09:20.052933Z",
     "iopub.status.busy": "2023-11-18T22:09:20.052560Z",
     "iopub.status.idle": "2023-11-18T22:09:20.091031Z",
     "shell.execute_reply": "2023-11-18T22:09:20.090319Z"
    },
    "papermill": {
     "duration": 0.045171,
     "end_time": "2023-11-18T22:09:20.092824",
     "exception": false,
     "start_time": "2023-11-18T22:09:20.047653",
     "status": "completed"
    },
    "tags": []
   },
   "outputs": [
    {
     "data": {
      "text/html": [
       "<div>\n",
       "<style scoped>\n",
       "    .dataframe tbody tr th:only-of-type {\n",
       "        vertical-align: middle;\n",
       "    }\n",
       "\n",
       "    .dataframe tbody tr th {\n",
       "        vertical-align: top;\n",
       "    }\n",
       "\n",
       "    .dataframe thead th {\n",
       "        text-align: right;\n",
       "    }\n",
       "</style>\n",
       "<table border=\"1\" class=\"dataframe\">\n",
       "  <thead>\n",
       "    <tr style=\"text-align: right;\">\n",
       "      <th></th>\n",
       "      <th>Unnamed: 0</th>\n",
       "      <th>Year</th>\n",
       "      <th>Severity</th>\n",
       "      <th>Start_Lat</th>\n",
       "      <th>Start_Lng</th>\n",
       "      <th>Distance(mi)</th>\n",
       "      <th>Street</th>\n",
       "      <th>City</th>\n",
       "      <th>County</th>\n",
       "      <th>State</th>\n",
       "      <th>Airport_Code</th>\n",
       "      <th>Temperature(F)</th>\n",
       "      <th>Wind_Chill(F)</th>\n",
       "      <th>Visibility(mi)</th>\n",
       "      <th>Wind_Direction</th>\n",
       "      <th>Weather_Condition</th>\n",
       "      <th>Traffic_Signal</th>\n",
       "      <th>Sunrise_Sunset</th>\n",
       "      <th>TimeDiff</th>\n",
       "    </tr>\n",
       "  </thead>\n",
       "  <tbody>\n",
       "    <tr>\n",
       "      <th>0</th>\n",
       "      <td>0</td>\n",
       "      <td>0</td>\n",
       "      <td>2</td>\n",
       "      <td>39.063148</td>\n",
       "      <td>-84.032608</td>\n",
       "      <td>0.010</td>\n",
       "      <td>35986</td>\n",
       "      <td>6679</td>\n",
       "      <td>243</td>\n",
       "      <td>33</td>\n",
       "      <td>748</td>\n",
       "      <td>36.0</td>\n",
       "      <td>33.3</td>\n",
       "      <td>10.0</td>\n",
       "      <td>15</td>\n",
       "      <td>46</td>\n",
       "      <td>1</td>\n",
       "      <td>1</td>\n",
       "      <td>30.0</td>\n",
       "    </tr>\n",
       "    <tr>\n",
       "      <th>1</th>\n",
       "      <td>1</td>\n",
       "      <td>0</td>\n",
       "      <td>3</td>\n",
       "      <td>39.747753</td>\n",
       "      <td>-84.205582</td>\n",
       "      <td>0.010</td>\n",
       "      <td>19445</td>\n",
       "      <td>1468</td>\n",
       "      <td>759</td>\n",
       "      <td>33</td>\n",
       "      <td>394</td>\n",
       "      <td>35.1</td>\n",
       "      <td>31.0</td>\n",
       "      <td>9.0</td>\n",
       "      <td>15</td>\n",
       "      <td>43</td>\n",
       "      <td>0</td>\n",
       "      <td>1</td>\n",
       "      <td>30.0</td>\n",
       "    </tr>\n",
       "    <tr>\n",
       "      <th>2</th>\n",
       "      <td>2</td>\n",
       "      <td>0</td>\n",
       "      <td>2</td>\n",
       "      <td>39.627781</td>\n",
       "      <td>-84.188354</td>\n",
       "      <td>0.010</td>\n",
       "      <td>23348</td>\n",
       "      <td>1468</td>\n",
       "      <td>759</td>\n",
       "      <td>33</td>\n",
       "      <td>979</td>\n",
       "      <td>36.0</td>\n",
       "      <td>33.3</td>\n",
       "      <td>6.0</td>\n",
       "      <td>15</td>\n",
       "      <td>43</td>\n",
       "      <td>1</td>\n",
       "      <td>0</td>\n",
       "      <td>30.0</td>\n",
       "    </tr>\n",
       "    <tr>\n",
       "      <th>3</th>\n",
       "      <td>3</td>\n",
       "      <td>0</td>\n",
       "      <td>3</td>\n",
       "      <td>40.100590</td>\n",
       "      <td>-82.925194</td>\n",
       "      <td>0.010</td>\n",
       "      <td>41325</td>\n",
       "      <td>6596</td>\n",
       "      <td>399</td>\n",
       "      <td>33</td>\n",
       "      <td>316</td>\n",
       "      <td>37.9</td>\n",
       "      <td>35.5</td>\n",
       "      <td>7.0</td>\n",
       "      <td>14</td>\n",
       "      <td>30</td>\n",
       "      <td>0</td>\n",
       "      <td>0</td>\n",
       "      <td>30.0</td>\n",
       "    </tr>\n",
       "    <tr>\n",
       "      <th>4</th>\n",
       "      <td>4</td>\n",
       "      <td>0</td>\n",
       "      <td>2</td>\n",
       "      <td>39.758274</td>\n",
       "      <td>-84.230507</td>\n",
       "      <td>0.000</td>\n",
       "      <td>26102</td>\n",
       "      <td>1468</td>\n",
       "      <td>759</td>\n",
       "      <td>33</td>\n",
       "      <td>394</td>\n",
       "      <td>34.0</td>\n",
       "      <td>31.0</td>\n",
       "      <td>7.0</td>\n",
       "      <td>21</td>\n",
       "      <td>46</td>\n",
       "      <td>0</td>\n",
       "      <td>0</td>\n",
       "      <td>30.0</td>\n",
       "    </tr>\n",
       "    <tr>\n",
       "      <th>...</th>\n",
       "      <td>...</td>\n",
       "      <td>...</td>\n",
       "      <td>...</td>\n",
       "      <td>...</td>\n",
       "      <td>...</td>\n",
       "      <td>...</td>\n",
       "      <td>...</td>\n",
       "      <td>...</td>\n",
       "      <td>...</td>\n",
       "      <td>...</td>\n",
       "      <td>...</td>\n",
       "      <td>...</td>\n",
       "      <td>...</td>\n",
       "      <td>...</td>\n",
       "      <td>...</td>\n",
       "      <td>...</td>\n",
       "      <td>...</td>\n",
       "      <td>...</td>\n",
       "      <td>...</td>\n",
       "    </tr>\n",
       "    <tr>\n",
       "      <th>243014</th>\n",
       "      <td>243014</td>\n",
       "      <td>1</td>\n",
       "      <td>2</td>\n",
       "      <td>38.765632</td>\n",
       "      <td>-111.353007</td>\n",
       "      <td>0.159</td>\n",
       "      <td>38077</td>\n",
       "      <td>5113</td>\n",
       "      <td>1032</td>\n",
       "      <td>42</td>\n",
       "      <td>1524</td>\n",
       "      <td>57.0</td>\n",
       "      <td>57.0</td>\n",
       "      <td>10.0</td>\n",
       "      <td>15</td>\n",
       "      <td>47</td>\n",
       "      <td>0</td>\n",
       "      <td>1</td>\n",
       "      <td>360.0</td>\n",
       "    </tr>\n",
       "    <tr>\n",
       "      <th>243015</th>\n",
       "      <td>243015</td>\n",
       "      <td>1</td>\n",
       "      <td>2</td>\n",
       "      <td>39.764370</td>\n",
       "      <td>-105.593050</td>\n",
       "      <td>0.321</td>\n",
       "      <td>19432</td>\n",
       "      <td>1634</td>\n",
       "      <td>239</td>\n",
       "      <td>4</td>\n",
       "      <td>3</td>\n",
       "      <td>46.4</td>\n",
       "      <td>37.2</td>\n",
       "      <td>10.0</td>\n",
       "      <td>22</td>\n",
       "      <td>46</td>\n",
       "      <td>0</td>\n",
       "      <td>0</td>\n",
       "      <td>360.0</td>\n",
       "    </tr>\n",
       "    <tr>\n",
       "      <th>243016</th>\n",
       "      <td>243016</td>\n",
       "      <td>1</td>\n",
       "      <td>4</td>\n",
       "      <td>39.919750</td>\n",
       "      <td>-75.576910</td>\n",
       "      <td>0.277</td>\n",
       "      <td>3955</td>\n",
       "      <td>6519</td>\n",
       "      <td>218</td>\n",
       "      <td>36</td>\n",
       "      <td>1149</td>\n",
       "      <td>63.0</td>\n",
       "      <td>63.0</td>\n",
       "      <td>10.0</td>\n",
       "      <td>0</td>\n",
       "      <td>6</td>\n",
       "      <td>1</td>\n",
       "      <td>1</td>\n",
       "      <td>360.0</td>\n",
       "    </tr>\n",
       "    <tr>\n",
       "      <th>243017</th>\n",
       "      <td>243017</td>\n",
       "      <td>1</td>\n",
       "      <td>4</td>\n",
       "      <td>36.034630</td>\n",
       "      <td>-79.054100</td>\n",
       "      <td>0.331</td>\n",
       "      <td>2251</td>\n",
       "      <td>1016</td>\n",
       "      <td>828</td>\n",
       "      <td>25</td>\n",
       "      <td>764</td>\n",
       "      <td>63.0</td>\n",
       "      <td>63.0</td>\n",
       "      <td>10.0</td>\n",
       "      <td>7</td>\n",
       "      <td>43</td>\n",
       "      <td>0</td>\n",
       "      <td>1</td>\n",
       "      <td>360.0</td>\n",
       "    </tr>\n",
       "    <tr>\n",
       "      <th>243018</th>\n",
       "      <td>243018</td>\n",
       "      <td>1</td>\n",
       "      <td>4</td>\n",
       "      <td>36.037717</td>\n",
       "      <td>-79.058637</td>\n",
       "      <td>0.331</td>\n",
       "      <td>2251</td>\n",
       "      <td>1016</td>\n",
       "      <td>828</td>\n",
       "      <td>25</td>\n",
       "      <td>764</td>\n",
       "      <td>63.0</td>\n",
       "      <td>63.0</td>\n",
       "      <td>10.0</td>\n",
       "      <td>7</td>\n",
       "      <td>43</td>\n",
       "      <td>0</td>\n",
       "      <td>1</td>\n",
       "      <td>360.0</td>\n",
       "    </tr>\n",
       "  </tbody>\n",
       "</table>\n",
       "<p>243019 rows × 19 columns</p>\n",
       "</div>"
      ],
      "text/plain": [
       "        Unnamed: 0  Year  Severity  Start_Lat   Start_Lng  Distance(mi)  \\\n",
       "0                0     0         2  39.063148  -84.032608         0.010   \n",
       "1                1     0         3  39.747753  -84.205582         0.010   \n",
       "2                2     0         2  39.627781  -84.188354         0.010   \n",
       "3                3     0         3  40.100590  -82.925194         0.010   \n",
       "4                4     0         2  39.758274  -84.230507         0.000   \n",
       "...            ...   ...       ...        ...         ...           ...   \n",
       "243014      243014     1         2  38.765632 -111.353007         0.159   \n",
       "243015      243015     1         2  39.764370 -105.593050         0.321   \n",
       "243016      243016     1         4  39.919750  -75.576910         0.277   \n",
       "243017      243017     1         4  36.034630  -79.054100         0.331   \n",
       "243018      243018     1         4  36.037717  -79.058637         0.331   \n",
       "\n",
       "        Street  City  County  State  Airport_Code  Temperature(F)  \\\n",
       "0        35986  6679     243     33           748            36.0   \n",
       "1        19445  1468     759     33           394            35.1   \n",
       "2        23348  1468     759     33           979            36.0   \n",
       "3        41325  6596     399     33           316            37.9   \n",
       "4        26102  1468     759     33           394            34.0   \n",
       "...        ...   ...     ...    ...           ...             ...   \n",
       "243014   38077  5113    1032     42          1524            57.0   \n",
       "243015   19432  1634     239      4             3            46.4   \n",
       "243016    3955  6519     218     36          1149            63.0   \n",
       "243017    2251  1016     828     25           764            63.0   \n",
       "243018    2251  1016     828     25           764            63.0   \n",
       "\n",
       "        Wind_Chill(F)  Visibility(mi)  Wind_Direction  Weather_Condition  \\\n",
       "0                33.3            10.0              15                 46   \n",
       "1                31.0             9.0              15                 43   \n",
       "2                33.3             6.0              15                 43   \n",
       "3                35.5             7.0              14                 30   \n",
       "4                31.0             7.0              21                 46   \n",
       "...               ...             ...             ...                ...   \n",
       "243014           57.0            10.0              15                 47   \n",
       "243015           37.2            10.0              22                 46   \n",
       "243016           63.0            10.0               0                  6   \n",
       "243017           63.0            10.0               7                 43   \n",
       "243018           63.0            10.0               7                 43   \n",
       "\n",
       "        Traffic_Signal  Sunrise_Sunset  TimeDiff  \n",
       "0                    1               1      30.0  \n",
       "1                    0               1      30.0  \n",
       "2                    1               0      30.0  \n",
       "3                    0               0      30.0  \n",
       "4                    0               0      30.0  \n",
       "...                ...             ...       ...  \n",
       "243014               0               1     360.0  \n",
       "243015               0               0     360.0  \n",
       "243016               1               1     360.0  \n",
       "243017               0               1     360.0  \n",
       "243018               0               1     360.0  \n",
       "\n",
       "[243019 rows x 19 columns]"
      ]
     },
     "execution_count": 4,
     "metadata": {},
     "output_type": "execute_result"
    }
   ],
   "source": [
    "df"
   ]
  },
  {
   "cell_type": "code",
   "execution_count": 5,
   "id": "f307fd02",
   "metadata": {
    "execution": {
     "iopub.execute_input": "2023-11-18T22:09:20.103158Z",
     "iopub.status.busy": "2023-11-18T22:09:20.102528Z",
     "iopub.status.idle": "2023-11-18T22:09:20.131523Z",
     "shell.execute_reply": "2023-11-18T22:09:20.130306Z"
    },
    "papermill": {
     "duration": 0.036214,
     "end_time": "2023-11-18T22:09:20.133407",
     "exception": false,
     "start_time": "2023-11-18T22:09:20.097193",
     "status": "completed"
    },
    "tags": []
   },
   "outputs": [
    {
     "name": "stdout",
     "output_type": "stream",
     "text": [
      "<class 'pandas.core.frame.DataFrame'>\n",
      "RangeIndex: 243019 entries, 0 to 243018\n",
      "Data columns (total 19 columns):\n",
      " #   Column             Non-Null Count   Dtype  \n",
      "---  ------             --------------   -----  \n",
      " 0   Unnamed: 0         243019 non-null  int64  \n",
      " 1   Year               243019 non-null  int64  \n",
      " 2   Severity           243019 non-null  int64  \n",
      " 3   Start_Lat          243019 non-null  float64\n",
      " 4   Start_Lng          243019 non-null  float64\n",
      " 5   Distance(mi)       243019 non-null  float64\n",
      " 6   Street             243019 non-null  int64  \n",
      " 7   City               243019 non-null  int64  \n",
      " 8   County             243019 non-null  int64  \n",
      " 9   State              243019 non-null  int64  \n",
      " 10  Airport_Code       243019 non-null  int64  \n",
      " 11  Temperature(F)     243019 non-null  float64\n",
      " 12  Wind_Chill(F)      243019 non-null  float64\n",
      " 13  Visibility(mi)     243019 non-null  float64\n",
      " 14  Wind_Direction     243019 non-null  int64  \n",
      " 15  Weather_Condition  243019 non-null  int64  \n",
      " 16  Traffic_Signal     243019 non-null  int64  \n",
      " 17  Sunrise_Sunset     243019 non-null  int64  \n",
      " 18  TimeDiff           243019 non-null  float64\n",
      "dtypes: float64(7), int64(12)\n",
      "memory usage: 35.2 MB\n"
     ]
    }
   ],
   "source": [
    "df.info()"
   ]
  },
  {
   "cell_type": "code",
   "execution_count": 6,
   "id": "739f7581",
   "metadata": {
    "execution": {
     "iopub.execute_input": "2023-11-18T22:09:20.144243Z",
     "iopub.status.busy": "2023-11-18T22:09:20.143278Z",
     "iopub.status.idle": "2023-11-18T22:09:20.154181Z",
     "shell.execute_reply": "2023-11-18T22:09:20.153191Z"
    },
    "papermill": {
     "duration": 0.017929,
     "end_time": "2023-11-18T22:09:20.155900",
     "exception": false,
     "start_time": "2023-11-18T22:09:20.137971",
     "status": "completed"
    },
    "tags": []
   },
   "outputs": [],
   "source": [
    "df = df.drop(columns=['Unnamed: 0'])"
   ]
  },
  {
   "cell_type": "code",
   "execution_count": 7,
   "id": "a747506b",
   "metadata": {
    "execution": {
     "iopub.execute_input": "2023-11-18T22:09:20.166533Z",
     "iopub.status.busy": "2023-11-18T22:09:20.165948Z",
     "iopub.status.idle": "2023-11-18T22:09:20.180176Z",
     "shell.execute_reply": "2023-11-18T22:09:20.178423Z"
    },
    "papermill": {
     "duration": 0.022441,
     "end_time": "2023-11-18T22:09:20.182821",
     "exception": false,
     "start_time": "2023-11-18T22:09:20.160380",
     "status": "completed"
    },
    "tags": []
   },
   "outputs": [
    {
     "name": "stdout",
     "output_type": "stream",
     "text": [
      "<class 'pandas.core.frame.DataFrame'>\n",
      "RangeIndex: 243019 entries, 0 to 243018\n",
      "Data columns (total 18 columns):\n",
      " #   Column             Non-Null Count   Dtype  \n",
      "---  ------             --------------   -----  \n",
      " 0   Year               243019 non-null  int64  \n",
      " 1   Severity           243019 non-null  int64  \n",
      " 2   Start_Lat          243019 non-null  float64\n",
      " 3   Start_Lng          243019 non-null  float64\n",
      " 4   Distance(mi)       243019 non-null  float64\n",
      " 5   Street             243019 non-null  int64  \n",
      " 6   City               243019 non-null  int64  \n",
      " 7   County             243019 non-null  int64  \n",
      " 8   State              243019 non-null  int64  \n",
      " 9   Airport_Code       243019 non-null  int64  \n",
      " 10  Temperature(F)     243019 non-null  float64\n",
      " 11  Wind_Chill(F)      243019 non-null  float64\n",
      " 12  Visibility(mi)     243019 non-null  float64\n",
      " 13  Wind_Direction     243019 non-null  int64  \n",
      " 14  Weather_Condition  243019 non-null  int64  \n",
      " 15  Traffic_Signal     243019 non-null  int64  \n",
      " 16  Sunrise_Sunset     243019 non-null  int64  \n",
      " 17  TimeDiff           243019 non-null  float64\n",
      "dtypes: float64(7), int64(11)\n",
      "memory usage: 33.4 MB\n"
     ]
    }
   ],
   "source": [
    "df.info()"
   ]
  },
  {
   "cell_type": "code",
   "execution_count": 8,
   "id": "403ae047",
   "metadata": {
    "execution": {
     "iopub.execute_input": "2023-11-18T22:09:20.193923Z",
     "iopub.status.busy": "2023-11-18T22:09:20.193556Z",
     "iopub.status.idle": "2023-11-18T22:09:20.298781Z",
     "shell.execute_reply": "2023-11-18T22:09:20.297424Z"
    },
    "papermill": {
     "duration": 0.113491,
     "end_time": "2023-11-18T22:09:20.301141",
     "exception": false,
     "start_time": "2023-11-18T22:09:20.187650",
     "status": "completed"
    },
    "tags": []
   },
   "outputs": [],
   "source": [
    "#splitting the dataset and fitting the scaler\n",
    "\n",
    "y = df['Severity']\n",
    "X = df.drop('Severity', axis=1)\n",
    "\n",
    "sc = StandardScaler()\n",
    "\n",
    "X_train, X_test, y_train, y_test = train_test_split(X, y, test_size = 0.2, random_state = 1)\n",
    "\n",
    "X_train  = sc.fit_transform(X_train)\n",
    "X_test = sc.transform(X_test)"
   ]
  },
  {
   "cell_type": "code",
   "execution_count": 9,
   "id": "b85ee151",
   "metadata": {
    "execution": {
     "iopub.execute_input": "2023-11-18T22:09:20.313209Z",
     "iopub.status.busy": "2023-11-18T22:09:20.312598Z",
     "iopub.status.idle": "2023-11-18T22:09:24.533451Z",
     "shell.execute_reply": "2023-11-18T22:09:24.532681Z"
    },
    "papermill": {
     "duration": 4.22955,
     "end_time": "2023-11-18T22:09:24.535601",
     "exception": false,
     "start_time": "2023-11-18T22:09:20.306051",
     "status": "completed"
    },
    "tags": []
   },
   "outputs": [
    {
     "name": "stdout",
     "output_type": "stream",
     "text": [
      "Tree accuracy:  82.05703234301703\n"
     ]
    }
   ],
   "source": [
    "\n",
    "Tree = DecisionTreeClassifier()\n",
    "Tree = Tree.fit(X_train, y_train)\n",
    "\n",
    "y_pred = Tree.predict(X_test)\n",
    "print(\"Tree accuracy: \", accuracy_score(y_test,y_pred)*100)\n"
   ]
  },
  {
   "cell_type": "code",
   "execution_count": 10,
   "id": "4d52f343",
   "metadata": {
    "execution": {
     "iopub.execute_input": "2023-11-18T22:09:24.548439Z",
     "iopub.status.busy": "2023-11-18T22:09:24.547082Z",
     "iopub.status.idle": "2023-11-18T22:09:25.603532Z",
     "shell.execute_reply": "2023-11-18T22:09:25.602593Z"
    },
    "papermill": {
     "duration": 1.064823,
     "end_time": "2023-11-18T22:09:25.605217",
     "exception": false,
     "start_time": "2023-11-18T22:09:24.540394",
     "status": "completed"
    },
    "tags": []
   },
   "outputs": [
    {
     "name": "stdout",
     "output_type": "stream",
     "text": [
      "Gini Tree accuracy:  82.24425973170932\n"
     ]
    }
   ],
   "source": [
    "#Train decision trees using gini criteria\n",
    "\n",
    "giniTree = DecisionTreeClassifier(criterion = \"gini\", splitter = \"random\", random_state = 42)\n",
    "giniTree = giniTree.fit(X_train, y_train)\n",
    "\n",
    "y_pred = giniTree.predict(X_test)\n",
    "print(\"Gini Tree accuracy: \", accuracy_score(y_test,y_pred)*100)\n",
    "\n"
   ]
  },
  {
   "cell_type": "code",
   "execution_count": 11,
   "id": "7887a4f5",
   "metadata": {
    "execution": {
     "iopub.execute_input": "2023-11-18T22:09:25.615549Z",
     "iopub.status.busy": "2023-11-18T22:09:25.615249Z",
     "iopub.status.idle": "2023-11-18T22:09:26.584667Z",
     "shell.execute_reply": "2023-11-18T22:09:26.583153Z"
    },
    "papermill": {
     "duration": 0.977399,
     "end_time": "2023-11-18T22:09:26.587257",
     "exception": false,
     "start_time": "2023-11-18T22:09:25.609858",
     "status": "completed"
    },
    "tags": []
   },
   "outputs": [
    {
     "name": "stdout",
     "output_type": "stream",
     "text": [
      "Entropy Tree accuracy:  82.03234301703563\n"
     ]
    }
   ],
   "source": [
    "#Train decision trees using entropy criteria\n",
    "\n",
    "entropyTree = DecisionTreeClassifier(criterion = \"entropy\", splitter = \"random\", random_state = 42)\n",
    "entropyTree = entropyTree.fit(X_train, y_train)\n",
    "\n",
    "y_pred = entropyTree.predict(X_test)\n",
    "print(\"Entropy Tree accuracy: \", accuracy_score(y_test,y_pred)*100)"
   ]
  },
  {
   "cell_type": "code",
   "execution_count": 12,
   "id": "e1d848cd",
   "metadata": {
    "execution": {
     "iopub.execute_input": "2023-11-18T22:09:26.598343Z",
     "iopub.status.busy": "2023-11-18T22:09:26.597986Z",
     "iopub.status.idle": "2023-11-18T22:10:35.525667Z",
     "shell.execute_reply": "2023-11-18T22:10:35.524709Z"
    },
    "papermill": {
     "duration": 68.939342,
     "end_time": "2023-11-18T22:10:35.531511",
     "exception": false,
     "start_time": "2023-11-18T22:09:26.592169",
     "status": "completed"
    },
    "tags": []
   },
   "outputs": [
    {
     "name": "stdout",
     "output_type": "stream",
     "text": [
      "Random forest accuracy:  88.35075302444243\n",
      "              precision    recall  f1-score   support\n",
      "\n",
      "           1       0.00      0.00      0.00        14\n",
      "           2       0.89      0.93      0.91     30828\n",
      "           3       0.86      0.82      0.84     16821\n",
      "           4       0.87      0.53      0.66       941\n",
      "\n",
      "    accuracy                           0.88     48604\n",
      "   macro avg       0.66      0.57      0.60     48604\n",
      "weighted avg       0.88      0.88      0.88     48604\n",
      "\n"
     ]
    }
   ],
   "source": [
    "rf = RandomForestClassifier(criterion = \"gini\")\n",
    "rf = rf.fit(X_train, y_train)\n",
    "\n",
    "y_pred = rf.predict(X_test)\n",
    "print(\"Random forest accuracy: \", accuracy_score(y_test,y_pred)*100)\n",
    "\n",
    "print(classification_report(y_test, y_pred))"
   ]
  },
  {
   "cell_type": "code",
   "execution_count": 13,
   "id": "23fc49f3",
   "metadata": {
    "execution": {
     "iopub.execute_input": "2023-11-18T22:10:35.542308Z",
     "iopub.status.busy": "2023-11-18T22:10:35.541939Z",
     "iopub.status.idle": "2023-11-18T22:11:51.204894Z",
     "shell.execute_reply": "2023-11-18T22:11:51.204035Z"
    },
    "papermill": {
     "duration": 75.674387,
     "end_time": "2023-11-18T22:11:51.210562",
     "exception": false,
     "start_time": "2023-11-18T22:10:35.536175",
     "status": "completed"
    },
    "tags": []
   },
   "outputs": [
    {
     "name": "stdout",
     "output_type": "stream",
     "text": [
      "Random forest accuracy:  88.53180808163937\n",
      "              precision    recall  f1-score   support\n",
      "\n",
      "           1       0.00      0.00      0.00        14\n",
      "           2       0.90      0.93      0.91     30828\n",
      "           3       0.86      0.82      0.84     16821\n",
      "           4       0.85      0.56      0.67       941\n",
      "\n",
      "    accuracy                           0.89     48604\n",
      "   macro avg       0.65      0.58      0.61     48604\n",
      "weighted avg       0.88      0.89      0.88     48604\n",
      "\n"
     ]
    }
   ],
   "source": [
    "rf = RandomForestClassifier(criterion = \"entropy\")\n",
    "rf = rf.fit(X_train, y_train)\n",
    "\n",
    "y_pred = rf.predict(X_test)\n",
    "print(\"Random forest accuracy: \", accuracy_score(y_test,y_pred)*100)\n",
    "\n",
    "print(classification_report(y_test, y_pred))"
   ]
  },
  {
   "cell_type": "code",
   "execution_count": 14,
   "id": "e313a16e",
   "metadata": {
    "execution": {
     "iopub.execute_input": "2023-11-18T22:11:51.222422Z",
     "iopub.status.busy": "2023-11-18T22:11:51.221187Z",
     "iopub.status.idle": "2023-11-18T22:25:12.062081Z",
     "shell.execute_reply": "2023-11-18T22:25:12.060897Z"
    },
    "papermill": {
     "duration": 800.852881,
     "end_time": "2023-11-18T22:25:12.068116",
     "exception": false,
     "start_time": "2023-11-18T22:11:51.215235",
     "status": "completed"
    },
    "tags": []
   },
   "outputs": [
    {
     "name": "stdout",
     "output_type": "stream",
     "text": [
      "Best hyperparameters are: {'max_features': 10, 'min_samples_split': 50}\n",
      "Best score is: 75.6264780625605\n"
     ]
    }
   ],
   "source": [
    "dt = DecisionTreeClassifier(criterion = \"gini\")\n",
    "\n",
    "grid = {'min_samples_split': [1, 2, 3, 5, 8, 9, 10, 15, 20, 40, 50],\n",
    "        'max_features': [1, 2, 3, 5, 8, 9, 10, 15, 18]}\n",
    "\n",
    "grid = GridSearchCV(dt, param_grid = grid, cv = 5)\n",
    "newGrid = grid.fit(X,y)\n",
    "\n",
    "print('Best hyperparameters are: '+str(newGrid.best_params_))\n",
    "print('Best score is: '+str(newGrid.best_score_*100))"
   ]
  },
  {
   "cell_type": "code",
   "execution_count": 15,
   "id": "0125e0c4",
   "metadata": {
    "execution": {
     "iopub.execute_input": "2023-11-18T22:25:12.079434Z",
     "iopub.status.busy": "2023-11-18T22:25:12.079075Z",
     "iopub.status.idle": "2023-11-18T22:39:27.983027Z",
     "shell.execute_reply": "2023-11-18T22:39:27.981708Z"
    },
    "papermill": {
     "duration": 855.915654,
     "end_time": "2023-11-18T22:39:27.988644",
     "exception": false,
     "start_time": "2023-11-18T22:25:12.072990",
     "status": "completed"
    },
    "tags": []
   },
   "outputs": [
    {
     "name": "stdout",
     "output_type": "stream",
     "text": [
      "Best hyperparameters are: {'max_features': 9, 'min_samples_split': 50}\n",
      "Best score is: 75.41290416647519\n"
     ]
    }
   ],
   "source": [
    "dt = DecisionTreeClassifier(criterion = \"entropy\")\n",
    "\n",
    "grid = {'min_samples_split': [1, 2, 3, 5, 8, 9, 10, 15, 20, 40, 50],\n",
    "        'max_features': [1, 2, 3, 5, 8, 9, 10, 15, 18]}\n",
    "\n",
    "grid = GridSearchCV(dt, param_grid = grid, cv = 5)\n",
    "newGrid = grid.fit(X,y)\n",
    "\n",
    "print('Best hyperparameters are: '+str(newGrid.best_params_))\n",
    "print('Best score is: '+str(newGrid.best_score_*100))"
   ]
  },
  {
   "cell_type": "code",
   "execution_count": 16,
   "id": "269348b5",
   "metadata": {
    "execution": {
     "iopub.execute_input": "2023-11-18T22:39:27.999618Z",
     "iopub.status.busy": "2023-11-18T22:39:27.999317Z",
     "iopub.status.idle": "2023-11-19T01:40:48.853199Z",
     "shell.execute_reply": "2023-11-19T01:40:48.852562Z"
    },
    "papermill": {
     "duration": 10880.867344,
     "end_time": "2023-11-19T01:40:48.860650",
     "exception": false,
     "start_time": "2023-11-18T22:39:27.993306",
     "status": "completed"
    },
    "tags": []
   },
   "outputs": [
    {
     "name": "stdout",
     "output_type": "stream",
     "text": [
      "Best hyperparameters are: {'max_depth': 10, 'min_samples_split': 2, 'n_estimators': 200}\n",
      "Best score is: 74.39735475077713\n"
     ]
    }
   ],
   "source": [
    "rf = RandomForestClassifier(criterion = \"gini\")\n",
    "grid = {'n_estimators': [100, 150, 200],\n",
    "        'max_depth': [1, 2, 3, 5, 8, 9, 10],\n",
    "        'min_samples_split': [2, 5, 10]}\n",
    "\n",
    "grid = GridSearchCV(rf, param_grid = grid, cv=5)\n",
    "newGrid = grid.fit(X,y)\n",
    "\n",
    "print('Best hyperparameters are: '+str(newGrid.best_params_))\n",
    "print('Best score is: '+str(newGrid.best_score_*100))"
   ]
  },
  {
   "cell_type": "code",
   "execution_count": 17,
   "id": "f55752cf",
   "metadata": {
    "execution": {
     "iopub.execute_input": "2023-11-19T01:40:48.872896Z",
     "iopub.status.busy": "2023-11-19T01:40:48.872289Z",
     "iopub.status.idle": "2023-11-19T04:56:37.798102Z",
     "shell.execute_reply": "2023-11-19T04:56:37.797143Z"
    },
    "papermill": {
     "duration": 11748.939123,
     "end_time": "2023-11-19T04:56:37.804768",
     "exception": false,
     "start_time": "2023-11-19T01:40:48.865645",
     "status": "completed"
    },
    "tags": []
   },
   "outputs": [
    {
     "name": "stdout",
     "output_type": "stream",
     "text": [
      "Best hyperparameters are: {'max_depth': 10, 'min_samples_split': 5, 'n_estimators': 200}\n",
      "Best score is: 73.85911816529101\n"
     ]
    }
   ],
   "source": [
    "rf = RandomForestClassifier(criterion = \"entropy\")\n",
    "\n",
    "grid = {'n_estimators': [100, 150, 200],\n",
    "        'max_depth': [1, 2, 3, 5, 8, 9, 10],\n",
    "        'min_samples_split': [2, 5, 10]}\n",
    "\n",
    "grid = GridSearchCV(rf, param_grid = grid, cv=5)\n",
    "newGrid = grid.fit(X,y)\n",
    "\n",
    "print('Best hyperparameters are: '+str(newGrid.best_params_))\n",
    "print('Best score is: '+str(newGrid.best_score_*100))"
   ]
  }
 ],
 "metadata": {
  "kaggle": {
   "accelerator": "none",
   "dataSources": [
    {
     "datasetId": 4023218,
     "sourceId": 6998650,
     "sourceType": "datasetVersion"
    }
   ],
   "dockerImageVersionId": 30587,
   "isGpuEnabled": false,
   "isInternetEnabled": false,
   "language": "python",
   "sourceType": "notebook"
  },
  "kernelspec": {
   "display_name": "Python 3",
   "language": "python",
   "name": "python3"
  },
  "language_info": {
   "codemirror_mode": {
    "name": "ipython",
    "version": 3
   },
   "file_extension": ".py",
   "mimetype": "text/x-python",
   "name": "python",
   "nbconvert_exporter": "python",
   "pygments_lexer": "ipython3",
   "version": "3.10.12"
  },
  "papermill": {
   "default_parameters": {},
   "duration": 24443.766315,
   "end_time": "2023-11-19T04:56:38.466909",
   "environment_variables": {},
   "exception": null,
   "input_path": "__notebook__.ipynb",
   "output_path": "__notebook__.ipynb",
   "parameters": {},
   "start_time": "2023-11-18T22:09:14.700594",
   "version": "2.4.0"
  }
 },
 "nbformat": 4,
 "nbformat_minor": 5
}
