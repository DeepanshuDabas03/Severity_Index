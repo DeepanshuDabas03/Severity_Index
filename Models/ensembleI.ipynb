{
 "cells": [
  {
   "cell_type": "code",
   "execution_count": 1,
   "id": "c22147d1",
   "metadata": {
    "_cell_guid": "b1076dfc-b9ad-4769-8c92-a6c4dae69d19",
    "_uuid": "8f2839f25d086af736a60e9eeb907d3b93b6e0e5",
    "execution": {
     "iopub.execute_input": "2023-11-22T12:13:54.792309Z",
     "iopub.status.busy": "2023-11-22T12:13:54.791846Z",
     "iopub.status.idle": "2023-11-22T12:13:55.596308Z",
     "shell.execute_reply": "2023-11-22T12:13:55.595357Z"
    },
    "papermill": {
     "duration": 0.815094,
     "end_time": "2023-11-22T12:13:55.598393",
     "exception": false,
     "start_time": "2023-11-22T12:13:54.783299",
     "status": "completed"
    },
    "tags": []
   },
   "outputs": [
    {
     "name": "stdout",
     "output_type": "stream",
     "text": [
      "/kaggle/input/cleanee1/LabelEncoded.csv\n",
      "/kaggle/input/cleanee/IQR_data.csv\n"
     ]
    }
   ],
   "source": [
    "# This Python 3 environment comes with many helpful analytics libraries installed\n",
    "# It is defined by the kaggle/python Docker image: https://github.com/kaggle/docker-python\n",
    "# For example, here's several helpful packages to load\n",
    "\n",
    "import numpy as np # linear algebra\n",
    "import pandas as pd # data processing, CSV file I/O (e.g. pd.read_csv)\n",
    "\n",
    "# Input data files are available in the read-only \"../input/\" directory\n",
    "# For example, running this (by clicking run or pressing Shift+Enter) will list all files under the input directory\n",
    "\n",
    "import os\n",
    "for dirname, _, filenames in os.walk('/kaggle/input'):\n",
    "    for filename in filenames:\n",
    "        print(os.path.join(dirname, filename))\n",
    "\n",
    "# You can write up to 20GB to the current directory (/kaggle/working/) that gets preserved as output when you create a version using \"Save & Run All\" \n",
    "# You can also write temporary files to /kaggle/temp/, but they won't be saved outside of the current session"
   ]
  },
  {
   "cell_type": "code",
   "execution_count": 2,
   "id": "b523d10b",
   "metadata": {
    "execution": {
     "iopub.execute_input": "2023-11-22T12:13:55.612616Z",
     "iopub.status.busy": "2023-11-22T12:13:55.612227Z",
     "iopub.status.idle": "2023-11-22T12:13:56.291979Z",
     "shell.execute_reply": "2023-11-22T12:13:56.291119Z"
    },
    "papermill": {
     "duration": 0.689499,
     "end_time": "2023-11-22T12:13:56.294484",
     "exception": false,
     "start_time": "2023-11-22T12:13:55.604985",
     "status": "completed"
    },
    "tags": []
   },
   "outputs": [],
   "source": [
    "dftrain = pd.read_csv('/kaggle/input/cleanee1/LabelEncoded.csv')"
   ]
  },
  {
   "cell_type": "code",
   "execution_count": null,
   "id": "640a2c7d",
   "metadata": {
    "execution": {
     "iopub.execute_input": "2023-11-20T05:49:50.610836Z",
     "iopub.status.busy": "2023-11-20T05:49:50.610528Z",
     "iopub.status.idle": "2023-11-20T05:49:50.615235Z",
     "shell.execute_reply": "2023-11-20T05:49:50.614276Z",
     "shell.execute_reply.started": "2023-11-20T05:49:50.610809Z"
    },
    "papermill": {
     "duration": 0.00613,
     "end_time": "2023-11-22T12:13:56.307218",
     "exception": false,
     "start_time": "2023-11-22T12:13:56.301088",
     "status": "completed"
    },
    "tags": []
   },
   "outputs": [],
   "source": []
  },
  {
   "cell_type": "code",
   "execution_count": 3,
   "id": "70d34ea9",
   "metadata": {
    "execution": {
     "iopub.execute_input": "2023-11-22T12:13:56.321819Z",
     "iopub.status.busy": "2023-11-22T12:13:56.321022Z",
     "iopub.status.idle": "2023-11-22T12:13:56.368312Z",
     "shell.execute_reply": "2023-11-22T12:13:56.367577Z"
    },
    "papermill": {
     "duration": 0.05682,
     "end_time": "2023-11-22T12:13:56.370420",
     "exception": false,
     "start_time": "2023-11-22T12:13:56.313600",
     "status": "completed"
    },
    "tags": []
   },
   "outputs": [],
   "source": [
    "cat_cols = ['Street','City','County','State','Airport_Code','Wind_Direction','Weather_Condition','Sunrise_Sunset']\n",
    "\n",
    "# Convert categorical columns to category type\n",
    "for col in cat_cols:\n",
    "    dftrain[col] = dftrain[col].astype('category')"
   ]
  },
  {
   "cell_type": "code",
   "execution_count": 4,
   "id": "44aa8a9d",
   "metadata": {
    "execution": {
     "iopub.execute_input": "2023-11-22T12:13:56.384282Z",
     "iopub.status.busy": "2023-11-22T12:13:56.383988Z",
     "iopub.status.idle": "2023-11-22T12:13:56.436896Z",
     "shell.execute_reply": "2023-11-22T12:13:56.435947Z"
    },
    "papermill": {
     "duration": 0.062389,
     "end_time": "2023-11-22T12:13:56.439075",
     "exception": false,
     "start_time": "2023-11-22T12:13:56.376686",
     "status": "completed"
    },
    "tags": []
   },
   "outputs": [
    {
     "name": "stdout",
     "output_type": "stream",
     "text": [
      "Unnamed: 0 243019\n",
      "Year 3\n",
      "Severity 4\n",
      "Start_Lat 134988\n",
      "Start_Lng 134347\n",
      "Distance(mi) 3674\n",
      "Street 42361\n",
      "City 6857\n",
      "County 1277\n",
      "State 49\n",
      "Airport_Code 1616\n",
      "Temperature(F) 271\n",
      "Wind_Chill(F) 573\n",
      "Visibility(mi) 49\n",
      "Wind_Direction 23\n",
      "Weather_Condition 70\n",
      "Traffic_Signal 2\n",
      "Sunrise_Sunset 2\n",
      "TimeDiff 3822\n"
     ]
    }
   ],
   "source": [
    "for cols in dftrain.columns:\n",
    "    print(cols, len(dftrain[cols].unique()))"
   ]
  },
  {
   "cell_type": "code",
   "execution_count": 5,
   "id": "6a477aef",
   "metadata": {
    "execution": {
     "iopub.execute_input": "2023-11-22T12:13:56.452833Z",
     "iopub.status.busy": "2023-11-22T12:13:56.452564Z",
     "iopub.status.idle": "2023-11-22T12:13:56.464278Z",
     "shell.execute_reply": "2023-11-22T12:13:56.463526Z"
    },
    "papermill": {
     "duration": 0.020755,
     "end_time": "2023-11-22T12:13:56.466188",
     "exception": false,
     "start_time": "2023-11-22T12:13:56.445433",
     "status": "completed"
    },
    "tags": []
   },
   "outputs": [],
   "source": [
    "df1 = dftrain.drop(columns=['Unnamed: 0'])"
   ]
  },
  {
   "cell_type": "code",
   "execution_count": 6,
   "id": "62e49da0",
   "metadata": {
    "execution": {
     "iopub.execute_input": "2023-11-22T12:13:56.479924Z",
     "iopub.status.busy": "2023-11-22T12:13:56.479655Z",
     "iopub.status.idle": "2023-11-22T12:13:56.491865Z",
     "shell.execute_reply": "2023-11-22T12:13:56.490944Z"
    },
    "papermill": {
     "duration": 0.021446,
     "end_time": "2023-11-22T12:13:56.494027",
     "exception": false,
     "start_time": "2023-11-22T12:13:56.472581",
     "status": "completed"
    },
    "tags": []
   },
   "outputs": [],
   "source": [
    "df_ = df1.drop(columns=['Severity'])"
   ]
  },
  {
   "cell_type": "code",
   "execution_count": 7,
   "id": "d8ba1c74",
   "metadata": {
    "execution": {
     "iopub.execute_input": "2023-11-22T12:13:56.508030Z",
     "iopub.status.busy": "2023-11-22T12:13:56.507713Z",
     "iopub.status.idle": "2023-11-22T12:13:57.999625Z",
     "shell.execute_reply": "2023-11-22T12:13:57.998857Z"
    },
    "papermill": {
     "duration": 1.501646,
     "end_time": "2023-11-22T12:13:58.002028",
     "exception": false,
     "start_time": "2023-11-22T12:13:56.500382",
     "status": "completed"
    },
    "tags": []
   },
   "outputs": [
    {
     "name": "stderr",
     "output_type": "stream",
     "text": [
      "/opt/conda/lib/python3.10/site-packages/scipy/__init__.py:146: UserWarning: A NumPy version >=1.16.5 and <1.23.0 is required for this version of SciPy (detected version 1.24.3\n",
      "  warnings.warn(f\"A NumPy version >={np_minversion} and <{np_maxversion}\"\n"
     ]
    }
   ],
   "source": [
    "import numpy as np\n",
    "import pandas as pd\n",
    "import seaborn as sns\n",
    "from matplotlib import pyplot as plt\n",
    "from sklearn import preprocessing\n",
    "from collections import Counter\n",
    "import pandas as pd\n",
    "import numpy as np\n",
    "import matplotlib.pyplot as plt\n",
    "import seaborn as sns\n",
    "import gc\n",
    "import re as re\n",
    "from collections import Counter\n",
    "\n",
    "from tqdm.auto import tqdm\n",
    "import math\n",
    "from sklearn.model_selection import KFold, StratifiedKFold, train_test_split, GridSearchCV\n",
    "from sklearn.preprocessing import StandardScaler, MinMaxScaler, LabelEncoder\n",
    "from sklearn.metrics import roc_auc_score, accuracy_score, confusion_matrix, ConfusionMatrixDisplay, RocCurveDisplay\n",
    "import warnings\n",
    "warnings.filterwarnings('ignore')\n",
    "\n",
    "import time\n",
    "from xgboost import XGBClassifier\n",
    "%matplotlib inline\n",
    "tqdm.pandas()\n"
   ]
  },
  {
   "cell_type": "code",
   "execution_count": 8,
   "id": "3174cf8b",
   "metadata": {
    "execution": {
     "iopub.execute_input": "2023-11-22T12:13:58.017743Z",
     "iopub.status.busy": "2023-11-22T12:13:58.017437Z",
     "iopub.status.idle": "2023-11-22T12:13:58.037442Z",
     "shell.execute_reply": "2023-11-22T12:13:58.036676Z"
    },
    "papermill": {
     "duration": 0.030114,
     "end_time": "2023-11-22T12:13:58.039542",
     "exception": false,
     "start_time": "2023-11-22T12:13:58.009428",
     "status": "completed"
    },
    "tags": []
   },
   "outputs": [],
   "source": [
    "X = df1.drop(columns=['Severity'])\n",
    "y = df1['Severity']\n",
    "y = y-np.ones(y.shape[0])"
   ]
  },
  {
   "cell_type": "code",
   "execution_count": 9,
   "id": "68aa7855",
   "metadata": {
    "execution": {
     "iopub.execute_input": "2023-11-22T12:13:58.053934Z",
     "iopub.status.busy": "2023-11-22T12:13:58.053637Z",
     "iopub.status.idle": "2023-11-22T12:13:58.063444Z",
     "shell.execute_reply": "2023-11-22T12:13:58.062552Z"
    },
    "papermill": {
     "duration": 0.019097,
     "end_time": "2023-11-22T12:13:58.065360",
     "exception": false,
     "start_time": "2023-11-22T12:13:58.046263",
     "status": "completed"
    },
    "tags": []
   },
   "outputs": [
    {
     "data": {
      "text/plain": [
       "(0         1.0\n",
       " 1         2.0\n",
       " 2         1.0\n",
       " 3         2.0\n",
       " 4         1.0\n",
       "          ... \n",
       " 243014    1.0\n",
       " 243015    1.0\n",
       " 243016    3.0\n",
       " 243017    3.0\n",
       " 243018    3.0\n",
       " Name: Severity, Length: 243019, dtype: float64,\n",
       " 0         2\n",
       " 1         3\n",
       " 2         2\n",
       " 3         3\n",
       " 4         2\n",
       "          ..\n",
       " 243014    2\n",
       " 243015    2\n",
       " 243016    4\n",
       " 243017    4\n",
       " 243018    4\n",
       " Name: Severity, Length: 243019, dtype: int64)"
      ]
     },
     "execution_count": 9,
     "metadata": {},
     "output_type": "execute_result"
    }
   ],
   "source": [
    "y,df1['Severity']"
   ]
  },
  {
   "cell_type": "code",
   "execution_count": 10,
   "id": "b8bba2e2",
   "metadata": {
    "execution": {
     "iopub.execute_input": "2023-11-22T12:13:58.079546Z",
     "iopub.status.busy": "2023-11-22T12:13:58.079263Z",
     "iopub.status.idle": "2023-11-22T12:13:58.110833Z",
     "shell.execute_reply": "2023-11-22T12:13:58.109992Z"
    },
    "papermill": {
     "duration": 0.041506,
     "end_time": "2023-11-22T12:13:58.113378",
     "exception": false,
     "start_time": "2023-11-22T12:13:58.071872",
     "status": "completed"
    },
    "tags": []
   },
   "outputs": [],
   "source": [
    "from sklearn.model_selection import train_test_split\n",
    "X_train_, X_test, y_train_, y_test = train_test_split(X,y , random_state=42,test_size=0.20, shuffle=False)"
   ]
  },
  {
   "cell_type": "code",
   "execution_count": null,
   "id": "32ad1212",
   "metadata": {
    "papermill": {
     "duration": 0.00675,
     "end_time": "2023-11-22T12:13:58.127282",
     "exception": false,
     "start_time": "2023-11-22T12:13:58.120532",
     "status": "completed"
    },
    "tags": []
   },
   "outputs": [],
   "source": []
  },
  {
   "cell_type": "code",
   "execution_count": 11,
   "id": "a238ff8f",
   "metadata": {
    "execution": {
     "iopub.execute_input": "2023-11-22T12:13:58.143112Z",
     "iopub.status.busy": "2023-11-22T12:13:58.142742Z",
     "iopub.status.idle": "2023-11-22T12:19:13.449603Z",
     "shell.execute_reply": "2023-11-22T12:19:13.448627Z"
    },
    "papermill": {
     "duration": 315.324857,
     "end_time": "2023-11-22T12:19:13.459333",
     "exception": false,
     "start_time": "2023-11-22T12:13:58.134476",
     "status": "completed"
    },
    "tags": []
   },
   "outputs": [
    {
     "name": "stdout",
     "output_type": "stream",
     "text": [
      "######################## Training FOLD 1 ########################\n",
      "                    AUC: 0.92216       Best Iteration: 249\n",
      "                    AUC: 0.84896       Best Iteration: 249\n",
      "                    AUC: 0.90635       Best Iteration: 249\n",
      "                    AUC: 0.93410       Best Iteration: 249\n",
      "######################## Training FOLD 5 ########################\n",
      "                    AUC: 0.78257       Best Iteration: 249\n",
      "                    AUC: 0.78250       Best Iteration: 249\n",
      "                    AUC: 0.89778       Best Iteration: 249\n",
      "                    AUC: 0.85127       Best Iteration: 249\n",
      "                    AUC: 0.87463       Best Iteration: 249\n",
      "######################## Training FOLD 10 ########################\n",
      "                    AUC: 0.85724       Best Iteration: 249\n",
      "                    AUC: 0.82007       Best Iteration: 249\n",
      "                    AUC: 0.93728       Best Iteration: 249\n",
      "                    AUC: 0.88136       Best Iteration: 249\n",
      "                    AUC: 0.90397       Best Iteration: 249\n",
      "######################## Training FOLD 15 ########################\n",
      "                    AUC: 0.87614       Best Iteration: 249\n",
      "                    AUC: 0.77103       Best Iteration: 249\n",
      "                    AUC: 0.87292       Best Iteration: 249\n",
      "                    AUC: 0.90707       Best Iteration: 249\n",
      "                    AUC: 0.86746       Best Iteration: 249\n",
      "######################## Training FOLD 20 ########################\n",
      "                    AUC: 0.89740       Best Iteration: 249\n"
     ]
    }
   ],
   "source": [
    "FOLDS = 20\n",
    "SEED = 1004\n",
    "xgb_models = []\n",
    "xgb_oof = []\n",
    "predictions = np.zeros(((y_test.shape[0]),4))\n",
    "f_imp = []\n",
    "xgb_valAccu=[]\n",
    "xgb_TrainAccu=[]\n",
    "\n",
    "counter = 0\n",
    "X = X_train_\n",
    "y = y_train_\n",
    "skf = StratifiedKFold(n_splits=FOLDS, shuffle=True, random_state=SEED)\n",
    "\n",
    "for fold, (train_idx, val_idx) in enumerate(skf.split(X, y)):\n",
    "    if (fold + 1) % 5 == 0 or (fold + 1) == 1:\n",
    "        print(f'{\"#\" * 24} Training FOLD {fold + 1} {\"#\" * 24}')\n",
    "    \n",
    "    X_train, y_train = X.iloc[train_idx], y.iloc[train_idx]\n",
    "    X_valid, y_valid = X.iloc[val_idx], y.iloc[val_idx]\n",
    "    watchlist = [(X_train, y_train), (X_valid, y_valid)]\n",
    "\n",
    "    # XGboost model and fit with GPU support\n",
    "    model = XGBClassifier(n_estimators=250, n_jobs=-1, max_depth=3, eta=0.2, colsample_bytree=0.67, tree_method='gpu_hist',enable_categorical=True,verbosity=0)\n",
    "    model.fit(X_train, y_train, eval_set=watchlist, early_stopping_rounds=300,verbose=False)\n",
    "\n",
    "    val_preds = model.predict_proba(X_valid)\n",
    "    train_preds = model.predict_proba(X_train)\n",
    "    val_pred = model.predict(X_valid)\n",
    "#     val_accu = accuracy_score(y_valid, val_preds)\n",
    "#     print(val_accu)\n",
    "    val_score = roc_auc_score(y_valid, val_preds,multi_class='ovr')\n",
    "    train_score = roc_auc_score(y_train, train_preds,multi_class='ovr')\n",
    "    best_iter = model.best_iteration\n",
    "    xgb_valAccu.append(val_score)\n",
    "    xgb_TrainAccu.append(train_score)\n",
    "#     idx_pred_target = np.vstack([val_idx, val_preds, y_valid]).T  # shape(len(val_idx), 3)\n",
    "#     f_imp.append({i: j for i, j in zip(X.columns, model.feature_importances_)})\n",
    "    print(f'{\" \" * 20}AUC: {val_score:.5f} {\" \" * 6}Best Iteration: {best_iter}')\n",
    "\n",
    "    if val_score > 0.80 and train_score > 0.90:\n",
    "        test_preds = model.predict_proba(X_test)\n",
    "        predictions += test_preds\n",
    "        counter += 1\n",
    "\n",
    "if(counter!=0):\n",
    "    predictions /= counter\n",
    "# mean_val_auc = get_mean_auc(np.array(xgb_oof))\n"
   ]
  },
  {
   "cell_type": "code",
   "execution_count": 12,
   "id": "ed3758e2",
   "metadata": {
    "execution": {
     "iopub.execute_input": "2023-11-22T12:19:13.476915Z",
     "iopub.status.busy": "2023-11-22T12:19:13.476596Z",
     "iopub.status.idle": "2023-11-22T12:19:13.482402Z",
     "shell.execute_reply": "2023-11-22T12:19:13.481542Z"
    },
    "papermill": {
     "duration": 0.016864,
     "end_time": "2023-11-22T12:19:13.484290",
     "exception": false,
     "start_time": "2023-11-22T12:19:13.467426",
     "status": "completed"
    },
    "tags": []
   },
   "outputs": [
    {
     "data": {
      "text/plain": [
       "(48604,)"
      ]
     },
     "execution_count": 12,
     "metadata": {},
     "output_type": "execute_result"
    }
   ],
   "source": [
    "y_test.shape"
   ]
  },
  {
   "cell_type": "code",
   "execution_count": 13,
   "id": "a1f0b6b3",
   "metadata": {
    "execution": {
     "iopub.execute_input": "2023-11-22T12:19:13.501992Z",
     "iopub.status.busy": "2023-11-22T12:19:13.501440Z",
     "iopub.status.idle": "2023-11-22T12:19:13.506898Z",
     "shell.execute_reply": "2023-11-22T12:19:13.506064Z"
    },
    "papermill": {
     "duration": 0.016234,
     "end_time": "2023-11-22T12:19:13.508748",
     "exception": false,
     "start_time": "2023-11-22T12:19:13.492514",
     "status": "completed"
    },
    "tags": []
   },
   "outputs": [
    {
     "data": {
      "text/plain": [
       "(48604, 4)"
      ]
     },
     "execution_count": 13,
     "metadata": {},
     "output_type": "execute_result"
    }
   ],
   "source": [
    "predictions.shape"
   ]
  },
  {
   "cell_type": "code",
   "execution_count": 14,
   "id": "b557e0e0",
   "metadata": {
    "execution": {
     "iopub.execute_input": "2023-11-22T12:19:13.526617Z",
     "iopub.status.busy": "2023-11-22T12:19:13.526341Z",
     "iopub.status.idle": "2023-11-22T12:19:13.530359Z",
     "shell.execute_reply": "2023-11-22T12:19:13.529496Z"
    },
    "papermill": {
     "duration": 0.015249,
     "end_time": "2023-11-22T12:19:13.532338",
     "exception": false,
     "start_time": "2023-11-22T12:19:13.517089",
     "status": "completed"
    },
    "tags": []
   },
   "outputs": [
    {
     "name": "stdout",
     "output_type": "stream",
     "text": [
      "Testing score\n"
     ]
    }
   ],
   "source": [
    "print(\"Testing score\")\n",
    "# print(roc_auc_score(y_test, predictions,multi_class='ovr',labels=[0,1,2,3]))"
   ]
  },
  {
   "cell_type": "code",
   "execution_count": null,
   "id": "9d487008",
   "metadata": {
    "papermill": {
     "duration": 0.008254,
     "end_time": "2023-11-22T12:19:13.549107",
     "exception": false,
     "start_time": "2023-11-22T12:19:13.540853",
     "status": "completed"
    },
    "tags": []
   },
   "outputs": [],
   "source": []
  },
  {
   "cell_type": "code",
   "execution_count": 15,
   "id": "62e04aa5",
   "metadata": {
    "execution": {
     "iopub.execute_input": "2023-11-22T12:19:13.567372Z",
     "iopub.status.busy": "2023-11-22T12:19:13.566795Z",
     "iopub.status.idle": "2023-11-22T12:19:13.798994Z",
     "shell.execute_reply": "2023-11-22T12:19:13.798079Z"
    },
    "papermill": {
     "duration": 0.243456,
     "end_time": "2023-11-22T12:19:13.800974",
     "exception": false,
     "start_time": "2023-11-22T12:19:13.557518",
     "status": "completed"
    },
    "tags": []
   },
   "outputs": [
    {
     "name": "stdout",
     "output_type": "stream",
     "text": [
      "XGB test confusion matrix\n"
     ]
    },
    {
     "data": {
      "text/plain": [
       "array([[    0,     5,     0,     0],\n",
       "       [    1, 20245, 10634,     1],\n",
       "       [    0,  3984,  9172,     1],\n",
       "       [    0,  2942,  1618,     1]])"
      ]
     },
     "execution_count": 15,
     "metadata": {},
     "output_type": "execute_result"
    }
   ],
   "source": [
    "XGBpredictions = []\n",
    "for i in predictions:\n",
    "    XGBpredictions.append(np.argmax(i))\n",
    "print(\"XGB test confusion matrix\")\n",
    "confusion_matrix(y_test,XGBpredictions,labels=[0,1,2,3])    "
   ]
  },
  {
   "cell_type": "code",
   "execution_count": 16,
   "id": "429c4f92",
   "metadata": {
    "execution": {
     "iopub.execute_input": "2023-11-22T12:19:13.821862Z",
     "iopub.status.busy": "2023-11-22T12:19:13.821565Z",
     "iopub.status.idle": "2023-11-22T12:19:13.826166Z",
     "shell.execute_reply": "2023-11-22T12:19:13.825267Z"
    },
    "papermill": {
     "duration": 0.016274,
     "end_time": "2023-11-22T12:19:13.828206",
     "exception": false,
     "start_time": "2023-11-22T12:19:13.811932",
     "status": "completed"
    },
    "tags": []
   },
   "outputs": [
    {
     "name": "stdout",
     "output_type": "stream",
     "text": [
      "Mean of Training score\n",
      "0.9875262827359712\n"
     ]
    }
   ],
   "source": [
    "print(\"Mean of Training score\")\n",
    "print(np.mean(xgb_TrainAccu))\n"
   ]
  },
  {
   "cell_type": "code",
   "execution_count": 17,
   "id": "ed7b28be",
   "metadata": {
    "execution": {
     "iopub.execute_input": "2023-11-22T12:19:13.847117Z",
     "iopub.status.busy": "2023-11-22T12:19:13.846818Z",
     "iopub.status.idle": "2023-11-22T12:19:13.851369Z",
     "shell.execute_reply": "2023-11-22T12:19:13.850453Z"
    },
    "papermill": {
     "duration": 0.016295,
     "end_time": "2023-11-22T12:19:13.853336",
     "exception": false,
     "start_time": "2023-11-22T12:19:13.837041",
     "status": "completed"
    },
    "tags": []
   },
   "outputs": [
    {
     "name": "stdout",
     "output_type": "stream",
     "text": [
      "Mean of Validation score\n",
      "0.8696126840673214\n"
     ]
    }
   ],
   "source": [
    "print(\"Mean of Validation score\")\n",
    "print(np.mean(xgb_valAccu))\n"
   ]
  },
  {
   "cell_type": "code",
   "execution_count": 18,
   "id": "e3f2faf1",
   "metadata": {
    "execution": {
     "iopub.execute_input": "2023-11-22T12:19:13.872420Z",
     "iopub.status.busy": "2023-11-22T12:19:13.872148Z",
     "iopub.status.idle": "2023-11-22T12:19:14.098238Z",
     "shell.execute_reply": "2023-11-22T12:19:14.097214Z"
    },
    "papermill": {
     "duration": 0.238054,
     "end_time": "2023-11-22T12:19:14.100432",
     "exception": false,
     "start_time": "2023-11-22T12:19:13.862378",
     "status": "completed"
    },
    "tags": []
   },
   "outputs": [],
   "source": [
    "import numpy as np\n",
    "import pandas as pd\n",
    "import matplotlib.pyplot as plt\n",
    "import seaborn as sn\n",
    "from scipy.stats import median_abs_deviation\n",
    "from sklearn.impute import SimpleImputer\n",
    "from sklearn.model_selection import train_test_split\n",
    "from sklearn.preprocessing import StandardScaler\n",
    "from sklearn.metrics import confusion_matrix\n",
    "from sklearn.tree import DecisionTreeClassifier\n",
    "from sklearn.metrics import accuracy_score\n",
    "from sklearn.metrics import classification_report\n",
    "from sklearn.model_selection import GridSearchCV\n",
    "from sklearn.ensemble import RandomForestClassifier\n",
    "from sklearn.metrics import accuracy_score, confusion_matrix, classification_report\n",
    "from collections import Counter\n",
    "import warnings\n",
    "warnings.filterwarnings('ignore')"
   ]
  },
  {
   "cell_type": "code",
   "execution_count": 19,
   "id": "f0630f35",
   "metadata": {
    "execution": {
     "iopub.execute_input": "2023-11-22T12:19:14.120601Z",
     "iopub.status.busy": "2023-11-22T12:19:14.120309Z",
     "iopub.status.idle": "2023-11-22T12:19:14.208774Z",
     "shell.execute_reply": "2023-11-22T12:19:14.207749Z"
    },
    "papermill": {
     "duration": 0.100928,
     "end_time": "2023-11-22T12:19:14.211130",
     "exception": false,
     "start_time": "2023-11-22T12:19:14.110202",
     "status": "completed"
    },
    "tags": []
   },
   "outputs": [],
   "source": [
    "sc = StandardScaler()\n",
    "X_train_  = sc.fit_transform(X_train_)\n",
    "X_test = sc.transform(X_test)"
   ]
  },
  {
   "cell_type": "code",
   "execution_count": 20,
   "id": "b090cc75",
   "metadata": {
    "execution": {
     "iopub.execute_input": "2023-11-22T12:19:14.232026Z",
     "iopub.status.busy": "2023-11-22T12:19:14.231404Z",
     "iopub.status.idle": "2023-11-22T12:20:15.916949Z",
     "shell.execute_reply": "2023-11-22T12:20:15.915929Z"
    },
    "papermill": {
     "duration": 61.707123,
     "end_time": "2023-11-22T12:20:15.928106",
     "exception": false,
     "start_time": "2023-11-22T12:19:14.220983",
     "status": "completed"
    },
    "tags": []
   },
   "outputs": [
    {
     "name": "stdout",
     "output_type": "stream",
     "text": [
      "Random forest accuracy:  61.18220722574274\n",
      "              precision    recall  f1-score   support\n",
      "\n",
      "         0.0       0.00      0.00      0.00         5\n",
      "         1.0       0.74      0.67      0.70     30881\n",
      "         2.0       0.44      0.69      0.54     13157\n",
      "         3.0       0.00      0.00      0.00      4561\n",
      "\n",
      "    accuracy                           0.61     48604\n",
      "   macro avg       0.29      0.34      0.31     48604\n",
      "weighted avg       0.59      0.61      0.59     48604\n",
      "\n"
     ]
    }
   ],
   "source": [
    "rf = RandomForestClassifier(criterion = \"entropy\")\n",
    "rf = rf.fit(X_train_, y_train_)\n",
    "\n",
    "y_pred = rf.predict(X_test)\n",
    "print(\"Random forest accuracy: \", accuracy_score(y_test,y_pred)*100)\n",
    "\n",
    "print(classification_report(y_test, y_pred))"
   ]
  },
  {
   "cell_type": "code",
   "execution_count": 21,
   "id": "f8ab00e6",
   "metadata": {
    "execution": {
     "iopub.execute_input": "2023-11-22T12:20:15.948563Z",
     "iopub.status.busy": "2023-11-22T12:20:15.948265Z",
     "iopub.status.idle": "2023-11-22T12:20:15.958717Z",
     "shell.execute_reply": "2023-11-22T12:20:15.957721Z"
    },
    "papermill": {
     "duration": 0.022964,
     "end_time": "2023-11-22T12:20:15.960751",
     "exception": false,
     "start_time": "2023-11-22T12:20:15.937787",
     "status": "completed"
    },
    "tags": []
   },
   "outputs": [
    {
     "name": "stdout",
     "output_type": "stream",
     "text": [
      "Random Forest\n",
      "[[    0     5     0     0]\n",
      " [    0 20640 10241     0]\n",
      " [    0  4060  9097     0]\n",
      " [    0  3055  1506     0]]\n"
     ]
    }
   ],
   "source": [
    "print(\"Random Forest\")\n",
    "print(confusion_matrix(y_test, y_pred,labels=[0,1,2,3]))"
   ]
  },
  {
   "cell_type": "code",
   "execution_count": 22,
   "id": "033f2af7",
   "metadata": {
    "execution": {
     "iopub.execute_input": "2023-11-22T12:20:15.981136Z",
     "iopub.status.busy": "2023-11-22T12:20:15.980837Z",
     "iopub.status.idle": "2023-11-22T12:20:17.222938Z",
     "shell.execute_reply": "2023-11-22T12:20:17.221962Z"
    },
    "papermill": {
     "duration": 1.254162,
     "end_time": "2023-11-22T12:20:17.224884",
     "exception": false,
     "start_time": "2023-11-22T12:20:15.970722",
     "status": "completed"
    },
    "tags": []
   },
   "outputs": [
    {
     "name": "stdout",
     "output_type": "stream",
     "text": [
      "Ensemble confusion matrix\n"
     ]
    },
    {
     "data": {
      "text/plain": [
       "array([[    0,     5,     0,     0],\n",
       "       [    0, 20516, 10365,     0],\n",
       "       [    0,  3934,  9223,     0],\n",
       "       [    0,  3027,  1534,     0]])"
      ]
     },
     "execution_count": 22,
     "metadata": {},
     "output_type": "execute_result"
    }
   ],
   "source": [
    "rfpredictions = rf.predict_proba(X_test)\n",
    "ensemblepredictions = rfpredictions+predictions\n",
    "Ensemblepredictions = []\n",
    "for i in ensemblepredictions:\n",
    "    Ensemblepredictions.append(np.argmax(i))\n",
    "print(\"Ensemble confusion matrix\")\n",
    "confusion_matrix(y_test,Ensemblepredictions,labels=[0,1,2,3]) "
   ]
  }
 ],
 "metadata": {
  "kaggle": {
   "accelerator": "gpu",
   "dataSources": [
    {
     "datasetId": 3838033,
     "sourceId": 6648978,
     "sourceType": "datasetVersion"
    },
    {
     "datasetId": 4040833,
     "sourceId": 7026163,
     "sourceType": "datasetVersion"
    }
   ],
   "dockerImageVersionId": 30588,
   "isGpuEnabled": true,
   "isInternetEnabled": true,
   "language": "python",
   "sourceType": "notebook"
  },
  "kernelspec": {
   "display_name": "Python 3",
   "language": "python",
   "name": "python3"
  },
  "language_info": {
   "codemirror_mode": {
    "name": "ipython",
    "version": 3
   },
   "file_extension": ".py",
   "mimetype": "text/x-python",
   "name": "python",
   "nbconvert_exporter": "python",
   "pygments_lexer": "ipython3",
   "version": "3.10.12"
  },
  "papermill": {
   "default_parameters": {},
   "duration": 386.505867,
   "end_time": "2023-11-22T12:20:17.754275",
   "environment_variables": {},
   "exception": null,
   "input_path": "__notebook__.ipynb",
   "output_path": "__notebook__.ipynb",
   "parameters": {},
   "start_time": "2023-11-22T12:13:51.248408",
   "version": "2.4.0"
  }
 },
 "nbformat": 4,
 "nbformat_minor": 5
}
