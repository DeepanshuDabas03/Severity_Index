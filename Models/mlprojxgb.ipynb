{
 "cells": [
  {
   "cell_type": "code",
   "execution_count": 1,
   "id": "f8c9ed4d",
   "metadata": {
    "_cell_guid": "b1076dfc-b9ad-4769-8c92-a6c4dae69d19",
    "_uuid": "8f2839f25d086af736a60e9eeb907d3b93b6e0e5",
    "execution": {
     "iopub.execute_input": "2023-11-20T06:48:01.669155Z",
     "iopub.status.busy": "2023-11-20T06:48:01.668298Z",
     "iopub.status.idle": "2023-11-20T06:48:02.376219Z",
     "shell.execute_reply": "2023-11-20T06:48:02.375294Z"
    },
    "papermill": {
     "duration": 0.71857,
     "end_time": "2023-11-20T06:48:02.378477",
     "exception": false,
     "start_time": "2023-11-20T06:48:01.659907",
     "status": "completed"
    },
    "tags": []
   },
   "outputs": [
    {
     "name": "stdout",
     "output_type": "stream",
     "text": [
      "/kaggle/input/cleanee/IQR_data.csv\n"
     ]
    }
   ],
   "source": [
    "# This Python 3 environment comes with many helpful analytics libraries installed\n",
    "# It is defined by the kaggle/python Docker image: https://github.com/kaggle/docker-python\n",
    "# For example, here's several helpful packages to load\n",
    "\n",
    "import numpy as np # linear algebra\n",
    "import pandas as pd # data processing, CSV file I/O (e.g. pd.read_csv)\n",
    "\n",
    "# Input data files are available in the read-only \"../input/\" directory\n",
    "# For example, running this (by clicking run or pressing Shift+Enter) will list all files under the input directory\n",
    "\n",
    "import os\n",
    "for dirname, _, filenames in os.walk('/kaggle/input'):\n",
    "    for filename in filenames:\n",
    "        print(os.path.join(dirname, filename))\n",
    "\n",
    "# You can write up to 20GB to the current directory (/kaggle/working/) that gets preserved as output when you create a version using \"Save & Run All\" \n",
    "# You can also write temporary files to /kaggle/temp/, but they won't be saved outside of the current session"
   ]
  },
  {
   "cell_type": "code",
   "execution_count": 2,
   "id": "9a27019b",
   "metadata": {
    "execution": {
     "iopub.execute_input": "2023-11-20T06:48:02.392740Z",
     "iopub.status.busy": "2023-11-20T06:48:02.392066Z",
     "iopub.status.idle": "2023-11-20T06:48:03.399507Z",
     "shell.execute_reply": "2023-11-20T06:48:03.398734Z"
    },
    "papermill": {
     "duration": 1.016778,
     "end_time": "2023-11-20T06:48:03.401780",
     "exception": false,
     "start_time": "2023-11-20T06:48:02.385002",
     "status": "completed"
    },
    "tags": []
   },
   "outputs": [],
   "source": [
    "dftrain = pd.read_csv('/kaggle/input/cleanee/IQR_data.csv')"
   ]
  },
  {
   "cell_type": "code",
   "execution_count": 3,
   "id": "ed2ef492",
   "metadata": {
    "execution": {
     "iopub.execute_input": "2023-11-20T06:48:03.415924Z",
     "iopub.status.busy": "2023-11-20T06:48:03.415571Z",
     "iopub.status.idle": "2023-11-20T06:48:03.419641Z",
     "shell.execute_reply": "2023-11-20T06:48:03.418847Z"
    },
    "papermill": {
     "duration": 0.013202,
     "end_time": "2023-11-20T06:48:03.421545",
     "exception": false,
     "start_time": "2023-11-20T06:48:03.408343",
     "status": "completed"
    },
    "tags": []
   },
   "outputs": [],
   "source": [
    "# Street: object, \n",
    "#     City: object, \n",
    "#         County: object, \n",
    "#             State: object, \n",
    "#                 Airport_Code: object, \n",
    "#                     Wind_Direction: object, \n",
    "#                         Weather_Condition: object, \n",
    "#                             Sunrise_Sunset: object"
   ]
  },
  {
   "cell_type": "code",
   "execution_count": 4,
   "id": "48a26794",
   "metadata": {
    "execution": {
     "iopub.execute_input": "2023-11-20T06:48:03.435673Z",
     "iopub.status.busy": "2023-11-20T06:48:03.435029Z",
     "iopub.status.idle": "2023-11-20T06:48:03.701709Z",
     "shell.execute_reply": "2023-11-20T06:48:03.700960Z"
    },
    "papermill": {
     "duration": 0.276166,
     "end_time": "2023-11-20T06:48:03.704105",
     "exception": false,
     "start_time": "2023-11-20T06:48:03.427939",
     "status": "completed"
    },
    "tags": []
   },
   "outputs": [],
   "source": [
    "cat_cols = ['Street','City','County','State','Airport_Code','Wind_Direction','Weather_Condition','Sunrise_Sunset']\n",
    "\n",
    "# Convert categorical columns to category type\n",
    "for col in cat_cols:\n",
    "    dftrain[col] = dftrain[col].astype('category')"
   ]
  },
  {
   "cell_type": "code",
   "execution_count": 5,
   "id": "58338ca0",
   "metadata": {
    "execution": {
     "iopub.execute_input": "2023-11-20T06:48:03.718294Z",
     "iopub.status.busy": "2023-11-20T06:48:03.718018Z",
     "iopub.status.idle": "2023-11-20T06:48:03.770860Z",
     "shell.execute_reply": "2023-11-20T06:48:03.769834Z"
    },
    "papermill": {
     "duration": 0.062309,
     "end_time": "2023-11-20T06:48:03.772942",
     "exception": false,
     "start_time": "2023-11-20T06:48:03.710633",
     "status": "completed"
    },
    "tags": []
   },
   "outputs": [
    {
     "name": "stdout",
     "output_type": "stream",
     "text": [
      "Unnamed: 0 243019\n",
      "Year 3\n",
      "Severity 4\n",
      "Start_Lat 134988\n",
      "Start_Lng 134347\n",
      "Distance(mi) 3674\n",
      "Street 42361\n",
      "City 6857\n",
      "County 1277\n",
      "State 49\n",
      "Airport_Code 1616\n",
      "Temperature(F) 271\n",
      "Wind_Chill(F) 573\n",
      "Visibility(mi) 49\n",
      "Wind_Direction 23\n",
      "Weather_Condition 70\n",
      "Traffic_Signal 2\n",
      "Sunrise_Sunset 2\n",
      "TimeDiff 3822\n"
     ]
    }
   ],
   "source": [
    "for cols in dftrain.columns:\n",
    "    print(cols, len(dftrain[cols].unique()))"
   ]
  },
  {
   "cell_type": "code",
   "execution_count": 6,
   "id": "1fcf559c",
   "metadata": {
    "execution": {
     "iopub.execute_input": "2023-11-20T06:48:03.787089Z",
     "iopub.status.busy": "2023-11-20T06:48:03.786793Z",
     "iopub.status.idle": "2023-11-20T06:48:03.799726Z",
     "shell.execute_reply": "2023-11-20T06:48:03.799035Z"
    },
    "papermill": {
     "duration": 0.021971,
     "end_time": "2023-11-20T06:48:03.801493",
     "exception": false,
     "start_time": "2023-11-20T06:48:03.779522",
     "status": "completed"
    },
    "tags": []
   },
   "outputs": [],
   "source": [
    "df1 = dftrain.drop(columns=['Unnamed: 0'])"
   ]
  },
  {
   "cell_type": "code",
   "execution_count": 7,
   "id": "f9fa7a88",
   "metadata": {
    "execution": {
     "iopub.execute_input": "2023-11-20T06:48:03.815738Z",
     "iopub.status.busy": "2023-11-20T06:48:03.815007Z",
     "iopub.status.idle": "2023-11-20T06:48:03.827048Z",
     "shell.execute_reply": "2023-11-20T06:48:03.826330Z"
    },
    "papermill": {
     "duration": 0.021198,
     "end_time": "2023-11-20T06:48:03.828958",
     "exception": false,
     "start_time": "2023-11-20T06:48:03.807760",
     "status": "completed"
    },
    "tags": []
   },
   "outputs": [],
   "source": [
    "df_ = df1.drop(columns=['Severity'])"
   ]
  },
  {
   "cell_type": "code",
   "execution_count": 8,
   "id": "db13ee04",
   "metadata": {
    "execution": {
     "iopub.execute_input": "2023-11-20T06:48:03.843016Z",
     "iopub.status.busy": "2023-11-20T06:48:03.842511Z",
     "iopub.status.idle": "2023-11-20T06:48:04.934575Z",
     "shell.execute_reply": "2023-11-20T06:48:04.933841Z"
    },
    "papermill": {
     "duration": 1.101537,
     "end_time": "2023-11-20T06:48:04.936890",
     "exception": false,
     "start_time": "2023-11-20T06:48:03.835353",
     "status": "completed"
    },
    "tags": []
   },
   "outputs": [
    {
     "name": "stderr",
     "output_type": "stream",
     "text": [
      "/opt/conda/lib/python3.10/site-packages/scipy/__init__.py:146: UserWarning: A NumPy version >=1.16.5 and <1.23.0 is required for this version of SciPy (detected version 1.24.3\n",
      "  warnings.warn(f\"A NumPy version >={np_minversion} and <{np_maxversion}\"\n"
     ]
    }
   ],
   "source": [
    "import numpy as np\n",
    "import pandas as pd\n",
    "import seaborn as sns\n",
    "from matplotlib import pyplot as plt\n",
    "from sklearn import preprocessing\n",
    "from collections import Counter"
   ]
  },
  {
   "cell_type": "code",
   "execution_count": 9,
   "id": "91914728",
   "metadata": {
    "execution": {
     "iopub.execute_input": "2023-11-20T06:48:04.951415Z",
     "iopub.status.busy": "2023-11-20T06:48:04.950717Z",
     "iopub.status.idle": "2023-11-20T06:48:04.969045Z",
     "shell.execute_reply": "2023-11-20T06:48:04.968364Z"
    },
    "papermill": {
     "duration": 0.027755,
     "end_time": "2023-11-20T06:48:04.971281",
     "exception": false,
     "start_time": "2023-11-20T06:48:04.943526",
     "status": "completed"
    },
    "tags": []
   },
   "outputs": [],
   "source": [
    "X = df1.drop(columns=['Severity'])\n",
    "y = df1['Severity']\n",
    "y = y-np.ones(y.shape[0])"
   ]
  },
  {
   "cell_type": "code",
   "execution_count": 10,
   "id": "92cdf5f2",
   "metadata": {
    "execution": {
     "iopub.execute_input": "2023-11-20T06:48:04.985576Z",
     "iopub.status.busy": "2023-11-20T06:48:04.985295Z",
     "iopub.status.idle": "2023-11-20T06:48:04.994700Z",
     "shell.execute_reply": "2023-11-20T06:48:04.993867Z"
    },
    "papermill": {
     "duration": 0.018989,
     "end_time": "2023-11-20T06:48:04.997068",
     "exception": false,
     "start_time": "2023-11-20T06:48:04.978079",
     "status": "completed"
    },
    "tags": []
   },
   "outputs": [
    {
     "data": {
      "text/plain": [
       "(0         1.0\n",
       " 1         2.0\n",
       " 2         1.0\n",
       " 3         2.0\n",
       " 4         1.0\n",
       "          ... \n",
       " 243014    1.0\n",
       " 243015    1.0\n",
       " 243016    3.0\n",
       " 243017    3.0\n",
       " 243018    3.0\n",
       " Name: Severity, Length: 243019, dtype: float64,\n",
       " 0         2\n",
       " 1         3\n",
       " 2         2\n",
       " 3         3\n",
       " 4         2\n",
       "          ..\n",
       " 243014    2\n",
       " 243015    2\n",
       " 243016    4\n",
       " 243017    4\n",
       " 243018    4\n",
       " Name: Severity, Length: 243019, dtype: int64)"
      ]
     },
     "execution_count": 10,
     "metadata": {},
     "output_type": "execute_result"
    }
   ],
   "source": [
    "y,df1['Severity']"
   ]
  },
  {
   "cell_type": "code",
   "execution_count": 11,
   "id": "43193618",
   "metadata": {
    "execution": {
     "iopub.execute_input": "2023-11-20T06:48:05.011632Z",
     "iopub.status.busy": "2023-11-20T06:48:05.011164Z",
     "iopub.status.idle": "2023-11-20T06:48:05.116661Z",
     "shell.execute_reply": "2023-11-20T06:48:05.115798Z"
    },
    "papermill": {
     "duration": 0.115009,
     "end_time": "2023-11-20T06:48:05.118952",
     "exception": false,
     "start_time": "2023-11-20T06:48:05.003943",
     "status": "completed"
    },
    "tags": []
   },
   "outputs": [],
   "source": [
    "from sklearn.model_selection import train_test_split\n",
    "X_train, X_test, y_train, y_test = train_test_split(X,y , random_state=42,test_size=0.25, shuffle=False)"
   ]
  },
  {
   "cell_type": "code",
   "execution_count": 12,
   "id": "f62d3194",
   "metadata": {
    "execution": {
     "iopub.execute_input": "2023-11-20T06:48:05.133886Z",
     "iopub.status.busy": "2023-11-20T06:48:05.133145Z",
     "iopub.status.idle": "2023-11-20T06:48:05.138850Z",
     "shell.execute_reply": "2023-11-20T06:48:05.138013Z"
    },
    "papermill": {
     "duration": 0.015117,
     "end_time": "2023-11-20T06:48:05.140791",
     "exception": false,
     "start_time": "2023-11-20T06:48:05.125674",
     "status": "completed"
    },
    "tags": []
   },
   "outputs": [],
   "source": [
    "# def f_importance_plot(f_imp):\n",
    "#     fig = plt.figure(figsize=(12, 0.20*len(f_imp)))\n",
    "#     plt.title('Feature importances', size=16, y=1.05, \n",
    "#               fontweight='bold', color='#444444')\n",
    "#     a = sns.barplot(data=f_imp, x='avg_imp', y='feature', \n",
    "#                     palette='YlOrBr_r', linestyle=\"-\", \n",
    "#                     linewidth=0.5, edgecolor=\"black\")\n",
    "#     plt.xlabel('')\n",
    "#     plt.xticks([])\n",
    "#     plt.ylabel('')\n",
    "#     plt.yticks(size=11, color='#444444')\n",
    "    \n",
    "#     for j in ['right', 'top', 'bottom']:\n",
    "#         a.spines[j].set_visible(False)\n",
    "#     for j in ['left']:\n",
    "#         a.spines[j].set_linewidth(0.5)\n",
    "#     plt.tight_layout()\n",
    "#     plt.show()\n",
    "# def show_confusion_roc(oof: list) -> None:\n",
    "#     \"\"\"Draws a confusion matrix and roc_curve with AUC score.\n",
    "        \n",
    "#         Args:\n",
    "#             oof: predictions for each fold stacked. (list of tuples)\n",
    "        \n",
    "#         Returns:\n",
    "#             None\n",
    "#     \"\"\"\n",
    "    \n",
    "#     f, ax = plt.subplots(1, 2, figsize=(13.3, 4))\n",
    "#     df = pd.DataFrame(np.concatenate(oof), columns=['id', 'preds', 'target']).set_index('id')\n",
    "#     df.index = df.index.astype(int)\n",
    "#     cm = confusion_matrix(df.target, df.preds.ge(0.5).astype(int))\n",
    "#     cm_display = ConfusionMatrixDisplay(cm).plot(cmap='YlOrBr_r', ax=ax[0])\n",
    "#     ax[0].grid(False)\n",
    "#     RocCurveDisplay.from_predictions(df.target, df.preds, color='#20BEFF', ax=ax[1])\n",
    "#     plt.tight_layout();\n",
    "    \n",
    "# def get_mean_auc(oof_results):\n",
    "#     \"\"\"Calculate the mean AUC from out-of-fold predictions.\"\"\"\n",
    "#     true_values = []\n",
    "#     preds = []\n",
    "    \n",
    "#     for oof in oof_results:\n",
    "#         true_values.extend(oof[:, 2])\n",
    "#         preds.extend(oof[:, 1])\n",
    "    \n",
    "#     return roc_auc_score(true_values, preds,multi_class='ovr')"
   ]
  },
  {
   "cell_type": "code",
   "execution_count": 13,
   "id": "ac9255fd",
   "metadata": {
    "execution": {
     "iopub.execute_input": "2023-11-20T06:48:05.154796Z",
     "iopub.status.busy": "2023-11-20T06:48:05.154518Z",
     "iopub.status.idle": "2023-11-20T06:48:05.325109Z",
     "shell.execute_reply": "2023-11-20T06:48:05.324361Z"
    },
    "papermill": {
     "duration": 0.180074,
     "end_time": "2023-11-20T06:48:05.327325",
     "exception": false,
     "start_time": "2023-11-20T06:48:05.147251",
     "status": "completed"
    },
    "tags": []
   },
   "outputs": [],
   "source": [
    "import pandas as pd\n",
    "import numpy as np\n",
    "import matplotlib.pyplot as plt\n",
    "import seaborn as sns\n",
    "import gc\n",
    "import re as re\n",
    "from collections import Counter\n",
    "\n",
    "from tqdm.auto import tqdm\n",
    "import math\n",
    "from sklearn.model_selection import KFold, StratifiedKFold, train_test_split, GridSearchCV\n",
    "from sklearn.preprocessing import StandardScaler, MinMaxScaler, LabelEncoder\n",
    "from sklearn.metrics import roc_auc_score, accuracy_score, confusion_matrix, ConfusionMatrixDisplay, RocCurveDisplay\n",
    "import warnings\n",
    "warnings.filterwarnings('ignore')\n",
    "\n",
    "import time\n",
    "from xgboost import XGBClassifier\n",
    "%matplotlib inline\n",
    "tqdm.pandas()\n",
    "\n",
    "# rc = {\n",
    "#     \"axes.facecolor\": \"#FFF9ED\",\n",
    "#     \"figure.facecolor\": \"#FFF9ED\",\n",
    "#     \"axes.edgecolor\": \"#000000\",\n",
    "#     \"grid.color\": \"#EBEBE7\",\n",
    "#     \"font.family\": \"serif\",\n",
    "#     \"axes.labelcolor\": \"#000000\",\n",
    "#     \"xtick.color\": \"#000000\",\n",
    "#     \"ytick.color\": \"#000000\",\n",
    "#     \"grid.alpha\": 0.4\n",
    "# }\n",
    "\n",
    "# sns.set(rc=rc)\n",
    "\n",
    "# from colorama import Style, Fore\n",
    "# red = Style.BRIGHT + Fore.RED\n",
    "# blu = Style.BRIGHT + Fore.BLUE\n",
    "# mgt = Style.BRIGHT + Fore.MAGENTA\n",
    "# gld = Style.BRIGHT + Fore.YELLOW\n",
    "# res = Style.RESET_ALL\n",
    "# bold_start = Style.BRIGHT\n",
    "# bold_end = Style.NORMAL"
   ]
  },
  {
   "cell_type": "code",
   "execution_count": 14,
   "id": "9ee6de58",
   "metadata": {
    "execution": {
     "iopub.execute_input": "2023-11-20T06:48:05.341675Z",
     "iopub.status.busy": "2023-11-20T06:48:05.341400Z",
     "iopub.status.idle": "2023-11-20T06:48:05.345291Z",
     "shell.execute_reply": "2023-11-20T06:48:05.344559Z"
    },
    "papermill": {
     "duration": 0.013058,
     "end_time": "2023-11-20T06:48:05.347149",
     "exception": false,
     "start_time": "2023-11-20T06:48:05.334091",
     "status": "completed"
    },
    "tags": []
   },
   "outputs": [],
   "source": [
    "from sklearn.metrics import accuracy_score"
   ]
  },
  {
   "cell_type": "code",
   "execution_count": null,
   "id": "bc097b7e",
   "metadata": {
    "papermill": {
     "duration": 0.006249,
     "end_time": "2023-11-20T06:48:05.359750",
     "exception": false,
     "start_time": "2023-11-20T06:48:05.353501",
     "status": "completed"
    },
    "tags": []
   },
   "outputs": [],
   "source": []
  },
  {
   "cell_type": "code",
   "execution_count": 15,
   "id": "7db110c3",
   "metadata": {
    "execution": {
     "iopub.execute_input": "2023-11-20T06:48:05.373889Z",
     "iopub.status.busy": "2023-11-20T06:48:05.373606Z",
     "iopub.status.idle": "2023-11-20T07:10:24.898451Z",
     "shell.execute_reply": "2023-11-20T07:10:24.897464Z"
    },
    "papermill": {
     "duration": 1339.542784,
     "end_time": "2023-11-20T07:10:24.908945",
     "exception": false,
     "start_time": "2023-11-20T06:48:05.366161",
     "status": "completed"
    },
    "tags": []
   },
   "outputs": [
    {
     "name": "stdout",
     "output_type": "stream",
     "text": [
      "######################## Training FOLD 1 ########################\n",
      "                    AUC: 0.85997       Best Iteration: 999\n",
      "                    AUC: 0.90847       Best Iteration: 997\n",
      "                    AUC: 0.95178       Best Iteration: 998\n",
      "                    AUC: 0.92197       Best Iteration: 997\n",
      "######################## Training FOLD 5 ########################\n",
      "                    AUC: 0.93671       Best Iteration: 997\n",
      "                    AUC: 0.88099       Best Iteration: 998\n",
      "                    AUC: 0.89270       Best Iteration: 999\n",
      "                    AUC: 0.82246       Best Iteration: 997\n",
      "                    AUC: 0.90670       Best Iteration: 998\n",
      "######################## Training FOLD 10 ########################\n",
      "                    AUC: 0.94223       Best Iteration: 999\n",
      "                    AUC: 0.90144       Best Iteration: 999\n",
      "                    AUC: 0.85566       Best Iteration: 999\n",
      "                    AUC: 0.85088       Best Iteration: 999\n",
      "                    AUC: 0.87524       Best Iteration: 979\n",
      "######################## Training FOLD 15 ########################\n",
      "                    AUC: 0.93814       Best Iteration: 996\n",
      "                    AUC: 0.87315       Best Iteration: 998\n",
      "                    AUC: 0.96206       Best Iteration: 999\n",
      "                    AUC: 0.90310       Best Iteration: 999\n",
      "                    AUC: 0.86665       Best Iteration: 999\n",
      "######################## Training FOLD 20 ########################\n",
      "                    AUC: 0.90111       Best Iteration: 993\n"
     ]
    }
   ],
   "source": [
    "FOLDS = 20\n",
    "SEED = 1004\n",
    "xgb_models = []\n",
    "xgb_oof = []\n",
    "# predictions = np.zeros(len(dftest))\n",
    "f_imp = []\n",
    "xgb_valAccu=[]\n",
    "xgb_TrainAccu=[]\n",
    "\n",
    "counter = 1\n",
    "X = df1.drop(columns=['Severity'])\n",
    "y = df1['Severity'] - np.ones(df1['Severity'].shape[0])\n",
    "skf = StratifiedKFold(n_splits=FOLDS, shuffle=True, random_state=SEED)\n",
    "\n",
    "for fold, (train_idx, val_idx) in enumerate(skf.split(X, y)):\n",
    "    if (fold + 1) % 5 == 0 or (fold + 1) == 1:\n",
    "        print(f'{\"#\" * 24} Training FOLD {fold + 1} {\"#\" * 24}')\n",
    "    \n",
    "    X_train, y_train = X.iloc[train_idx], y.iloc[train_idx]\n",
    "    X_valid, y_valid = X.iloc[val_idx], y.iloc[val_idx]\n",
    "    watchlist = [(X_train, y_train), (X_valid, y_valid)]\n",
    "\n",
    "    # XGboost model and fit with GPU support\n",
    "    model = XGBClassifier(n_estimators=1000, n_jobs=-1, max_depth=3, eta=0.2, colsample_bytree=0.67, tree_method='gpu_hist',enable_categorical=True,verbosity=0)\n",
    "    model.fit(X_train, y_train, eval_set=watchlist, early_stopping_rounds=300,verbose=False)\n",
    "\n",
    "    val_preds = model.predict_proba(X_valid)\n",
    "    train_preds = model.predict_proba(X_train)\n",
    "    val_pred = model.predict(X_valid)\n",
    "#     val_accu = accuracy_score(y_valid, val_preds)\n",
    "#     print(val_accu)\n",
    "    val_score = roc_auc_score(y_valid, val_preds,multi_class='ovr')\n",
    "    train_score = roc_auc_score(y_train, train_preds,multi_class='ovr')\n",
    "    best_iter = model.best_iteration\n",
    "    xgb_valAccu.append(val_score)\n",
    "    xgb_TrainAccu.append(train_score)\n",
    "#     idx_pred_target = np.vstack([val_idx, val_preds, y_valid]).T  # shape(len(val_idx), 3)\n",
    "#     f_imp.append({i: j for i, j in zip(X.columns, model.feature_importances_)})\n",
    "    print(f'{\" \" * 20}AUC: {val_score:.5f} {\" \" * 6}Best Iteration: {best_iter}')\n",
    "\n",
    "#     xgb_oof.append(idx_pred_target)\n",
    "#     xgb_models.append(model)\n",
    "#     if val_score > 0.80:\n",
    "#         test_preds = model.predict_proba(dftest.drop(columns=['id']))[:, 1]\n",
    "#         predictions += test_preds\n",
    "#         counter += 1\n",
    "\n",
    "# predictions /= counter\n",
    "# mean_val_auc = get_mean_auc(np.array(xgb_oof))\n",
    "# print(f'{bold_start}{red}{\"*\" * 45}{res}')\n",
    "# print(f'Mean AUC: {red}{mean_val_auc:.5f}{res}{bold_end}')"
   ]
  },
  {
   "cell_type": "code",
   "execution_count": 16,
   "id": "cf176cdb",
   "metadata": {
    "execution": {
     "iopub.execute_input": "2023-11-20T07:10:24.927311Z",
     "iopub.status.busy": "2023-11-20T07:10:24.926961Z",
     "iopub.status.idle": "2023-11-20T07:10:24.932162Z",
     "shell.execute_reply": "2023-11-20T07:10:24.931227Z"
    },
    "papermill": {
     "duration": 0.016769,
     "end_time": "2023-11-20T07:10:24.934118",
     "exception": false,
     "start_time": "2023-11-20T07:10:24.917349",
     "status": "completed"
    },
    "tags": []
   },
   "outputs": [
    {
     "name": "stdout",
     "output_type": "stream",
     "text": [
      "Mean of Training score\n",
      "0.9888844225788759\n"
     ]
    }
   ],
   "source": [
    "print(\"Mean of Training score\")\n",
    "print(np.mean(xgb_TrainAccu))\n"
   ]
  },
  {
   "cell_type": "code",
   "execution_count": 17,
   "id": "0d9b1c9a",
   "metadata": {
    "execution": {
     "iopub.execute_input": "2023-11-20T07:10:24.952504Z",
     "iopub.status.busy": "2023-11-20T07:10:24.952148Z",
     "iopub.status.idle": "2023-11-20T07:10:24.957249Z",
     "shell.execute_reply": "2023-11-20T07:10:24.956425Z"
    },
    "papermill": {
     "duration": 0.01689,
     "end_time": "2023-11-20T07:10:24.959456",
     "exception": false,
     "start_time": "2023-11-20T07:10:24.942566",
     "status": "completed"
    },
    "tags": []
   },
   "outputs": [
    {
     "name": "stdout",
     "output_type": "stream",
     "text": [
      "Mean of Validation score\n",
      "0.8975710489254778\n"
     ]
    }
   ],
   "source": [
    "print(\"Mean of Validation score\")\n",
    "print(np.mean(xgb_valAccu))\n"
   ]
  },
  {
   "cell_type": "code",
   "execution_count": 18,
   "id": "1992738a",
   "metadata": {
    "execution": {
     "iopub.execute_input": "2023-11-20T07:10:24.978623Z",
     "iopub.status.busy": "2023-11-20T07:10:24.978008Z",
     "iopub.status.idle": "2023-11-20T07:10:24.983923Z",
     "shell.execute_reply": "2023-11-20T07:10:24.983091Z"
    },
    "papermill": {
     "duration": 0.017537,
     "end_time": "2023-11-20T07:10:24.985796",
     "exception": false,
     "start_time": "2023-11-20T07:10:24.968259",
     "status": "completed"
    },
    "tags": []
   },
   "outputs": [
    {
     "data": {
      "text/plain": [
       "(243019, 18)"
      ]
     },
     "execution_count": 18,
     "metadata": {},
     "output_type": "execute_result"
    }
   ],
   "source": [
    "df1.shape"
   ]
  },
  {
   "cell_type": "code",
   "execution_count": 19,
   "id": "51428bfc",
   "metadata": {
    "execution": {
     "iopub.execute_input": "2023-11-20T07:10:25.005399Z",
     "iopub.status.busy": "2023-11-20T07:10:25.004500Z",
     "iopub.status.idle": "2023-11-20T07:10:25.010419Z",
     "shell.execute_reply": "2023-11-20T07:10:25.009615Z"
    },
    "papermill": {
     "duration": 0.017837,
     "end_time": "2023-11-20T07:10:25.012441",
     "exception": false,
     "start_time": "2023-11-20T07:10:24.994604",
     "status": "completed"
    },
    "tags": []
   },
   "outputs": [
    {
     "data": {
      "text/plain": [
       "243019"
      ]
     },
     "execution_count": 19,
     "metadata": {},
     "output_type": "execute_result"
    }
   ],
   "source": [
    "df1['Severity'].shape[0]"
   ]
  },
  {
   "cell_type": "code",
   "execution_count": null,
   "id": "e7f73b8b",
   "metadata": {
    "papermill": {
     "duration": 0.008567,
     "end_time": "2023-11-20T07:10:25.029923",
     "exception": false,
     "start_time": "2023-11-20T07:10:25.021356",
     "status": "completed"
    },
    "tags": []
   },
   "outputs": [],
   "source": []
  },
  {
   "cell_type": "code",
   "execution_count": null,
   "id": "333c0789",
   "metadata": {
    "papermill": {
     "duration": 0.00843,
     "end_time": "2023-11-20T07:10:25.046914",
     "exception": false,
     "start_time": "2023-11-20T07:10:25.038484",
     "status": "completed"
    },
    "tags": []
   },
   "outputs": [],
   "source": []
  },
  {
   "cell_type": "code",
   "execution_count": null,
   "id": "5ea779f4",
   "metadata": {
    "papermill": {
     "duration": 0.008822,
     "end_time": "2023-11-20T07:10:25.064337",
     "exception": false,
     "start_time": "2023-11-20T07:10:25.055515",
     "status": "completed"
    },
    "tags": []
   },
   "outputs": [],
   "source": []
  }
 ],
 "metadata": {
  "kaggle": {
   "accelerator": "gpu",
   "dataSources": [
    {
     "datasetId": 3838033,
     "sourceId": 6648978,
     "sourceType": "datasetVersion"
    }
   ],
   "dockerImageVersionId": 30588,
   "isGpuEnabled": true,
   "isInternetEnabled": true,
   "language": "python",
   "sourceType": "notebook"
  },
  "kernelspec": {
   "display_name": "Python 3",
   "language": "python",
   "name": "python3"
  },
  "language_info": {
   "codemirror_mode": {
    "name": "ipython",
    "version": 3
   },
   "file_extension": ".py",
   "mimetype": "text/x-python",
   "name": "python",
   "nbconvert_exporter": "python",
   "pygments_lexer": "ipython3",
   "version": "3.10.12"
  },
  "papermill": {
   "default_parameters": {},
   "duration": 1347.297806,
   "end_time": "2023-11-20T07:10:25.696723",
   "environment_variables": {},
   "exception": null,
   "input_path": "__notebook__.ipynb",
   "output_path": "__notebook__.ipynb",
   "parameters": {},
   "start_time": "2023-11-20T06:47:58.398917",
   "version": "2.4.0"
  }
 },
 "nbformat": 4,
 "nbformat_minor": 5
}
